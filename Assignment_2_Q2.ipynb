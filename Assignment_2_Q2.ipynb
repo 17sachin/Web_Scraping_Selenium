{
 "cells": [
  {
   "cell_type": "code",
   "execution_count": 21,
   "metadata": {},
   "outputs": [
    {
     "name": "stdout",
     "output_type": "stream",
     "text": [
      "Requirement already satisfied: selenium in c:\\users\\hp\\anaconda3\\lib\\site-packages (3.141.0)\n",
      "Requirement already satisfied: urllib3 in c:\\users\\hp\\anaconda3\\lib\\site-packages (from selenium) (1.25.9)\n"
     ]
    }
   ],
   "source": [
    "!pip install selenium"
   ]
  },
  {
   "cell_type": "code",
   "execution_count": 22,
   "metadata": {},
   "outputs": [],
   "source": [
    "import selenium\n",
    "from selenium import webdriver"
   ]
  },
  {
   "cell_type": "code",
   "execution_count": 23,
   "metadata": {},
   "outputs": [],
   "source": [
    "driver=webdriver.Chrome(\"D:\\\\chromedriver_win32\\\\chromedriver.exe\")"
   ]
  },
  {
   "cell_type": "code",
   "execution_count": 24,
   "metadata": {},
   "outputs": [],
   "source": [
    "driver.close()"
   ]
  },
  {
   "cell_type": "code",
   "execution_count": 25,
   "metadata": {},
   "outputs": [],
   "source": [
    "driver=webdriver.Chrome(\"D:\\\\chromedriver_win32\\\\chromedriver.exe\")"
   ]
  },
  {
   "cell_type": "code",
   "execution_count": 26,
   "metadata": {},
   "outputs": [],
   "source": [
    "driver.get('https://www.naukri.com/')"
   ]
  },
  {
   "cell_type": "code",
   "execution_count": 27,
   "metadata": {},
   "outputs": [],
   "source": [
    "#finding element for job search bar\n",
    "\n",
    "search_job= driver.find_element_by_id('qsb-keyword-sugg')\n",
    "search_job.send_keys(\"Data Scientist\")\n",
    "search_loc= driver.find_element_by_xpath(\"//input[@id='qsb-location-sugg']\")\n",
    "search_loc.send_keys(\"Bangalore\")"
   ]
  },
  {
   "cell_type": "code",
   "execution_count": 28,
   "metadata": {},
   "outputs": [],
   "source": [
    "search_btn=driver.find_element_by_xpath(\"//div[@class='search-btn']/button\")\n",
    "search_btn.click()"
   ]
  },
  {
   "cell_type": "code",
   "execution_count": 29,
   "metadata": {},
   "outputs": [],
   "source": [
    "#Specifying the url of the webpage to be scraped\n",
    "url=\"https://www.naukri.com/data-analyst-jobs-in-bangalore?k=data%20analyst&l=bangalore\""
   ]
  },
  {
   "cell_type": "code",
   "execution_count": 30,
   "metadata": {},
   "outputs": [],
   "source": [
    "#Lets open the webpage through our web driver\n",
    "driver.get(url)"
   ]
  },
  {
   "cell_type": "raw",
   "metadata": {},
   "source": [
    "#Now we need to create empty lists for 4 features\n",
    "1.job_titles 2.job_locations 3.company_names 4.full_job_description"
   ]
  },
  {
   "cell_type": "code",
   "execution_count": 31,
   "metadata": {},
   "outputs": [],
   "source": [
    "job_titles=[]\n",
    "job_locations=[]\n",
    "company_names=[]\n",
    "job_description=[]"
   ]
  },
  {
   "cell_type": "code",
   "execution_count": 32,
   "metadata": {},
   "outputs": [
    {
     "data": {
      "text/plain": [
       "[<selenium.webdriver.remote.webelement.WebElement (session=\"e9f6edd5d8cbcd4eca045f26878630e1\", element=\"a3e2556d-d950-427a-a924-5d07b2196310\")>,\n",
       " <selenium.webdriver.remote.webelement.WebElement (session=\"e9f6edd5d8cbcd4eca045f26878630e1\", element=\"92348919-3aa6-41f5-8c69-65e219bd6b51\")>,\n",
       " <selenium.webdriver.remote.webelement.WebElement (session=\"e9f6edd5d8cbcd4eca045f26878630e1\", element=\"87fb252e-ee6e-4543-a29e-6d2c6e15d6fe\")>,\n",
       " <selenium.webdriver.remote.webelement.WebElement (session=\"e9f6edd5d8cbcd4eca045f26878630e1\", element=\"a8d54f83-ad0e-43a2-9f1c-cda0a0e866d6\")>,\n",
       " <selenium.webdriver.remote.webelement.WebElement (session=\"e9f6edd5d8cbcd4eca045f26878630e1\", element=\"8cdbc616-aecc-4030-bdc5-209221c41a8a\")>,\n",
       " <selenium.webdriver.remote.webelement.WebElement (session=\"e9f6edd5d8cbcd4eca045f26878630e1\", element=\"3cc8894a-cada-43a5-9c3c-f204dc9bcc70\")>,\n",
       " <selenium.webdriver.remote.webelement.WebElement (session=\"e9f6edd5d8cbcd4eca045f26878630e1\", element=\"8b0c15c2-203f-4ced-ac4b-0d27089149f2\")>,\n",
       " <selenium.webdriver.remote.webelement.WebElement (session=\"e9f6edd5d8cbcd4eca045f26878630e1\", element=\"22ddc0df-2bab-45e1-9bec-a883dd1e4945\")>,\n",
       " <selenium.webdriver.remote.webelement.WebElement (session=\"e9f6edd5d8cbcd4eca045f26878630e1\", element=\"53c26376-243e-4691-98ab-1db1d9c7912c\")>,\n",
       " <selenium.webdriver.remote.webelement.WebElement (session=\"e9f6edd5d8cbcd4eca045f26878630e1\", element=\"6283b874-06e4-4608-9bd9-7cc13e741ca9\")>]"
      ]
     },
     "execution_count": 32,
     "metadata": {},
     "output_type": "execute_result"
    }
   ],
   "source": [
    "#Extract the tag having the job-titles\n",
    "titles_tags=driver.find_elements_by_xpath(\"//a[@class='title fw500 ellipsis']\")\n",
    "titles_tags[0:10]"
   ]
  },
  {
   "cell_type": "code",
   "execution_count": 33,
   "metadata": {},
   "outputs": [
    {
     "data": {
      "text/plain": [
       "['MIS/ Data Analyst-(SQL,Automation,Excel/PowerBI,Dashboards) - Contract',\n",
       " 'Data Analyst - SAP',\n",
       " 'Hiring Data Analysts on Contract',\n",
       " 'Senior Data Analyst',\n",
       " 'Data Analyst',\n",
       " 'Security Data Analyst',\n",
       " 'Data Analyst -Azure Data lake, Azure Data factory',\n",
       " 'Business / Data Analyst',\n",
       " 'Data Analyst - O2C - Bangalore',\n",
       " 'Intern Data Analyst']"
      ]
     },
     "execution_count": 33,
     "metadata": {},
     "output_type": "execute_result"
    }
   ],
   "source": [
    "#Now need to extratc the text from these tags\n",
    "\n",
    "for i in titles_tags:\n",
    "    title=i.text\n",
    "    job_titles.append(title)\n",
    "job_titles[0:10]"
   ]
  },
  {
   "cell_type": "code",
   "execution_count": 34,
   "metadata": {},
   "outputs": [
    {
     "data": {
      "text/plain": [
       "[<selenium.webdriver.remote.webelement.WebElement (session=\"e9f6edd5d8cbcd4eca045f26878630e1\", element=\"dfc9ff92-838a-4f85-a93b-d393d28df7fe\")>,\n",
       " <selenium.webdriver.remote.webelement.WebElement (session=\"e9f6edd5d8cbcd4eca045f26878630e1\", element=\"ce379c14-0fe2-4498-9dd2-340a703c8747\")>,\n",
       " <selenium.webdriver.remote.webelement.WebElement (session=\"e9f6edd5d8cbcd4eca045f26878630e1\", element=\"8b94505f-2a53-4029-a5a7-d67a5ce6f0c3\")>,\n",
       " <selenium.webdriver.remote.webelement.WebElement (session=\"e9f6edd5d8cbcd4eca045f26878630e1\", element=\"c50688f1-d926-46aa-a74a-e0c315c06ea9\")>,\n",
       " <selenium.webdriver.remote.webelement.WebElement (session=\"e9f6edd5d8cbcd4eca045f26878630e1\", element=\"84a8eb85-61c1-41c4-831b-5f53887c88be\")>,\n",
       " <selenium.webdriver.remote.webelement.WebElement (session=\"e9f6edd5d8cbcd4eca045f26878630e1\", element=\"aabe2eec-78c3-423f-9f4a-700c2612556b\")>,\n",
       " <selenium.webdriver.remote.webelement.WebElement (session=\"e9f6edd5d8cbcd4eca045f26878630e1\", element=\"3f8bb519-70eb-4ac6-966e-7545f3feb126\")>,\n",
       " <selenium.webdriver.remote.webelement.WebElement (session=\"e9f6edd5d8cbcd4eca045f26878630e1\", element=\"a5dda116-3d29-4df3-9703-9346a7a089be\")>,\n",
       " <selenium.webdriver.remote.webelement.WebElement (session=\"e9f6edd5d8cbcd4eca045f26878630e1\", element=\"9c4bfbef-873f-4afa-88e5-c7623cf6766b\")>,\n",
       " <selenium.webdriver.remote.webelement.WebElement (session=\"e9f6edd5d8cbcd4eca045f26878630e1\", element=\"6d167b8b-d041-47b7-8a7a-a208f22ad46e\")>]"
      ]
     },
     "execution_count": 34,
     "metadata": {},
     "output_type": "execute_result"
    }
   ],
   "source": [
    "#Now need to extract the tags having job locations\n",
    "\n",
    "locations_tags=driver.find_elements_by_xpath(\"//li[@class='fleft grey-text br2 placeHolderLi location']/span[1]\")\n",
    "locations_tags[0:10]"
   ]
  },
  {
   "cell_type": "code",
   "execution_count": 35,
   "metadata": {},
   "outputs": [
    {
     "data": {
      "text/plain": [
       "['Bengaluru',\n",
       " 'Pune, Delhi, Bengaluru, Gurgaon',\n",
       " 'Bengaluru',\n",
       " 'Bengaluru / Bangalore',\n",
       " 'Bengaluru',\n",
       " 'Bengaluru',\n",
       " 'Chennai, Pune, Bengaluru, Hyderabad',\n",
       " 'Bengaluru',\n",
       " 'Bengaluru',\n",
       " 'Bengaluru']"
      ]
     },
     "execution_count": 35,
     "metadata": {},
     "output_type": "execute_result"
    }
   ],
   "source": [
    "for i in locations_tags:\n",
    "    location_name=i.text\n",
    "    job_locations.append(location_name)\n",
    "job_locations[0:10]"
   ]
  },
  {
   "cell_type": "code",
   "execution_count": 36,
   "metadata": {},
   "outputs": [
    {
     "data": {
      "text/plain": [
       "[<selenium.webdriver.remote.webelement.WebElement (session=\"e9f6edd5d8cbcd4eca045f26878630e1\", element=\"d6c1970e-4771-439e-8adc-ea26ca4cd66b\")>,\n",
       " <selenium.webdriver.remote.webelement.WebElement (session=\"e9f6edd5d8cbcd4eca045f26878630e1\", element=\"0946c37c-39e6-4579-bec8-67ed5da58db5\")>,\n",
       " <selenium.webdriver.remote.webelement.WebElement (session=\"e9f6edd5d8cbcd4eca045f26878630e1\", element=\"c04c1fad-a3df-4b63-a6cf-882dea5d9d45\")>,\n",
       " <selenium.webdriver.remote.webelement.WebElement (session=\"e9f6edd5d8cbcd4eca045f26878630e1\", element=\"9cbe0ce3-1a9c-4f31-bc0d-100e5a1534e8\")>,\n",
       " <selenium.webdriver.remote.webelement.WebElement (session=\"e9f6edd5d8cbcd4eca045f26878630e1\", element=\"e5d1f42f-6ff9-4ef4-908f-b34edf2056ff\")>,\n",
       " <selenium.webdriver.remote.webelement.WebElement (session=\"e9f6edd5d8cbcd4eca045f26878630e1\", element=\"5193a9b4-e949-4410-aab2-18682c689d66\")>,\n",
       " <selenium.webdriver.remote.webelement.WebElement (session=\"e9f6edd5d8cbcd4eca045f26878630e1\", element=\"77a07276-0d5a-4094-ac1f-1adc86145ebf\")>,\n",
       " <selenium.webdriver.remote.webelement.WebElement (session=\"e9f6edd5d8cbcd4eca045f26878630e1\", element=\"2ffae582-bff0-4768-92e9-fc68261be070\")>,\n",
       " <selenium.webdriver.remote.webelement.WebElement (session=\"e9f6edd5d8cbcd4eca045f26878630e1\", element=\"dcd4c071-1421-41fa-86d9-d2e24bb71320\")>,\n",
       " <selenium.webdriver.remote.webelement.WebElement (session=\"e9f6edd5d8cbcd4eca045f26878630e1\", element=\"18008f25-0279-4d13-8a86-9055d50936c7\")>]"
      ]
     },
     "execution_count": 36,
     "metadata": {},
     "output_type": "execute_result"
    }
   ],
   "source": [
    "#Now need to extract the tags having company names\n",
    "\n",
    "companies_tags=driver.find_elements_by_xpath(\"//a[@class='subTitle ellipsis fleft']\")\n",
    "companies_tags[0:10]"
   ]
  },
  {
   "cell_type": "code",
   "execution_count": 37,
   "metadata": {},
   "outputs": [
    {
     "data": {
      "text/plain": [
       "['Flipkart Internet Private Limited',\n",
       " 'Boston Scientific Corporation',\n",
       " 'Flipkart Internet Private Limited',\n",
       " 'Schneider Electric',\n",
       " 'Shell India Markets Private Limited',\n",
       " 'Philips India Limited',\n",
       " 'Mindtree Limited',\n",
       " 'IBM India Pvt. Limited',\n",
       " 'RANDSTAD INDIA PVT LTD',\n",
       " 'Outsource Big Data']"
      ]
     },
     "execution_count": 37,
     "metadata": {},
     "output_type": "execute_result"
    }
   ],
   "source": [
    "for i in companies_tags:\n",
    "    company_name=i.text\n",
    "    company_names.append(company_name)\n",
    "company_names[0:10]"
   ]
  },
  {
   "cell_type": "code",
   "execution_count": 38,
   "metadata": {},
   "outputs": [
    {
     "data": {
      "text/plain": [
       "[<selenium.webdriver.remote.webelement.WebElement (session=\"e9f6edd5d8cbcd4eca045f26878630e1\", element=\"a3e2556d-d950-427a-a924-5d07b2196310\")>,\n",
       " <selenium.webdriver.remote.webelement.WebElement (session=\"e9f6edd5d8cbcd4eca045f26878630e1\", element=\"92348919-3aa6-41f5-8c69-65e219bd6b51\")>,\n",
       " <selenium.webdriver.remote.webelement.WebElement (session=\"e9f6edd5d8cbcd4eca045f26878630e1\", element=\"87fb252e-ee6e-4543-a29e-6d2c6e15d6fe\")>,\n",
       " <selenium.webdriver.remote.webelement.WebElement (session=\"e9f6edd5d8cbcd4eca045f26878630e1\", element=\"a8d54f83-ad0e-43a2-9f1c-cda0a0e866d6\")>,\n",
       " <selenium.webdriver.remote.webelement.WebElement (session=\"e9f6edd5d8cbcd4eca045f26878630e1\", element=\"8cdbc616-aecc-4030-bdc5-209221c41a8a\")>,\n",
       " <selenium.webdriver.remote.webelement.WebElement (session=\"e9f6edd5d8cbcd4eca045f26878630e1\", element=\"3cc8894a-cada-43a5-9c3c-f204dc9bcc70\")>,\n",
       " <selenium.webdriver.remote.webelement.WebElement (session=\"e9f6edd5d8cbcd4eca045f26878630e1\", element=\"8b0c15c2-203f-4ced-ac4b-0d27089149f2\")>,\n",
       " <selenium.webdriver.remote.webelement.WebElement (session=\"e9f6edd5d8cbcd4eca045f26878630e1\", element=\"22ddc0df-2bab-45e1-9bec-a883dd1e4945\")>,\n",
       " <selenium.webdriver.remote.webelement.WebElement (session=\"e9f6edd5d8cbcd4eca045f26878630e1\", element=\"53c26376-243e-4691-98ab-1db1d9c7912c\")>,\n",
       " <selenium.webdriver.remote.webelement.WebElement (session=\"e9f6edd5d8cbcd4eca045f26878630e1\", element=\"6283b874-06e4-4608-9bd9-7cc13e741ca9\")>]"
      ]
     },
     "execution_count": 38,
     "metadata": {},
     "output_type": "execute_result"
    }
   ],
   "source": [
    "#Now need to extract the tags having full job description\n",
    "urls=driver.find_elements_by_xpath(\"//a[@class='title fw500 ellipsis']\")\n",
    "urls[0:10]\n"
   ]
  },
  {
   "cell_type": "code",
   "execution_count": 39,
   "metadata": {},
   "outputs": [
    {
     "data": {
      "text/plain": [
       "['MIS/ Data Analyst-(SQL,Automation,Excel/PowerBI,Dashboards) - Contract',\n",
       " 'Data Analyst - SAP',\n",
       " 'Hiring Data Analysts on Contract',\n",
       " 'Senior Data Analyst',\n",
       " 'Data Analyst',\n",
       " 'Security Data Analyst',\n",
       " 'Data Analyst -Azure Data lake, Azure Data factory',\n",
       " 'Business / Data Analyst',\n",
       " 'Data Analyst - O2C - Bangalore',\n",
       " 'Intern Data Analyst']"
      ]
     },
     "execution_count": 39,
     "metadata": {},
     "output_type": "execute_result"
    }
   ],
   "source": [
    "for i in urls:\n",
    "    description=i.text\n",
    "    job_description.append(description)\n",
    "driver.find_element_by_xpath(\"//a[@class='title fw500 ellipsis']\").click()\n",
    "job_description[0:10]"
   ]
  },
  {
   "cell_type": "code",
   "execution_count": 40,
   "metadata": {},
   "outputs": [
    {
     "name": "stdout",
     "output_type": "stream",
     "text": [
      "20 20 20 20\n"
     ]
    }
   ],
   "source": [
    "#Now we need to check the length of lists\n",
    "print(len(job_titles),len(job_locations),len(company_names),len(job_description))\n"
   ]
  },
  {
   "cell_type": "code",
   "execution_count": 41,
   "metadata": {},
   "outputs": [
    {
     "data": {
      "application/javascript": [
       "\n",
       "        if (window._pyforest_update_imports_cell) { window._pyforest_update_imports_cell('import pandas as pd'); }\n",
       "    "
      ],
      "text/plain": [
       "<IPython.core.display.Javascript object>"
      ]
     },
     "metadata": {},
     "output_type": "display_data"
    }
   ],
   "source": [
    "jobs=pd.DataFrame({})\n",
    "jobs['Title']=job_titles[0:10]\n",
    "jobs['Location']=job_locations[0:10]\n",
    "jobs['Company']=company_names[0:10]\n",
    "jobs['job_description']=job_description[0:10]"
   ]
  },
  {
   "cell_type": "code",
   "execution_count": 42,
   "metadata": {},
   "outputs": [
    {
     "data": {
      "text/html": [
       "<div>\n",
       "<style scoped>\n",
       "    .dataframe tbody tr th:only-of-type {\n",
       "        vertical-align: middle;\n",
       "    }\n",
       "\n",
       "    .dataframe tbody tr th {\n",
       "        vertical-align: top;\n",
       "    }\n",
       "\n",
       "    .dataframe thead th {\n",
       "        text-align: right;\n",
       "    }\n",
       "</style>\n",
       "<table border=\"1\" class=\"dataframe\">\n",
       "  <thead>\n",
       "    <tr style=\"text-align: right;\">\n",
       "      <th></th>\n",
       "      <th>Title</th>\n",
       "      <th>Location</th>\n",
       "      <th>Company</th>\n",
       "      <th>job_description</th>\n",
       "    </tr>\n",
       "  </thead>\n",
       "  <tbody>\n",
       "    <tr>\n",
       "      <th>0</th>\n",
       "      <td>MIS/ Data Analyst-(SQL,Automation,Excel/PowerB...</td>\n",
       "      <td>Bengaluru</td>\n",
       "      <td>Flipkart Internet Private Limited</td>\n",
       "      <td>MIS/ Data Analyst-(SQL,Automation,Excel/PowerB...</td>\n",
       "    </tr>\n",
       "    <tr>\n",
       "      <th>1</th>\n",
       "      <td>Data Analyst - SAP</td>\n",
       "      <td>Pune, Delhi, Bengaluru, Gurgaon</td>\n",
       "      <td>Boston Scientific Corporation</td>\n",
       "      <td>Data Analyst - SAP</td>\n",
       "    </tr>\n",
       "    <tr>\n",
       "      <th>2</th>\n",
       "      <td>Hiring Data Analysts on Contract</td>\n",
       "      <td>Bengaluru</td>\n",
       "      <td>Flipkart Internet Private Limited</td>\n",
       "      <td>Hiring Data Analysts on Contract</td>\n",
       "    </tr>\n",
       "    <tr>\n",
       "      <th>3</th>\n",
       "      <td>Senior Data Analyst</td>\n",
       "      <td>Bengaluru / Bangalore</td>\n",
       "      <td>Schneider Electric</td>\n",
       "      <td>Senior Data Analyst</td>\n",
       "    </tr>\n",
       "    <tr>\n",
       "      <th>4</th>\n",
       "      <td>Data Analyst</td>\n",
       "      <td>Bengaluru</td>\n",
       "      <td>Shell India Markets Private Limited</td>\n",
       "      <td>Data Analyst</td>\n",
       "    </tr>\n",
       "    <tr>\n",
       "      <th>5</th>\n",
       "      <td>Security Data Analyst</td>\n",
       "      <td>Bengaluru</td>\n",
       "      <td>Philips India Limited</td>\n",
       "      <td>Security Data Analyst</td>\n",
       "    </tr>\n",
       "    <tr>\n",
       "      <th>6</th>\n",
       "      <td>Data Analyst -Azure Data lake, Azure Data factory</td>\n",
       "      <td>Chennai, Pune, Bengaluru, Hyderabad</td>\n",
       "      <td>Mindtree Limited</td>\n",
       "      <td>Data Analyst -Azure Data lake, Azure Data factory</td>\n",
       "    </tr>\n",
       "    <tr>\n",
       "      <th>7</th>\n",
       "      <td>Business / Data Analyst</td>\n",
       "      <td>Bengaluru</td>\n",
       "      <td>IBM India Pvt. Limited</td>\n",
       "      <td>Business / Data Analyst</td>\n",
       "    </tr>\n",
       "    <tr>\n",
       "      <th>8</th>\n",
       "      <td>Data Analyst - O2C - Bangalore</td>\n",
       "      <td>Bengaluru</td>\n",
       "      <td>RANDSTAD INDIA PVT LTD</td>\n",
       "      <td>Data Analyst - O2C - Bangalore</td>\n",
       "    </tr>\n",
       "    <tr>\n",
       "      <th>9</th>\n",
       "      <td>Intern Data Analyst</td>\n",
       "      <td>Bengaluru</td>\n",
       "      <td>Outsource Big Data</td>\n",
       "      <td>Intern Data Analyst</td>\n",
       "    </tr>\n",
       "  </tbody>\n",
       "</table>\n",
       "</div>"
      ],
      "text/plain": [
       "                                               Title  \\\n",
       "0  MIS/ Data Analyst-(SQL,Automation,Excel/PowerB...   \n",
       "1                                 Data Analyst - SAP   \n",
       "2                   Hiring Data Analysts on Contract   \n",
       "3                                Senior Data Analyst   \n",
       "4                                       Data Analyst   \n",
       "5                              Security Data Analyst   \n",
       "6  Data Analyst -Azure Data lake, Azure Data factory   \n",
       "7                            Business / Data Analyst   \n",
       "8                     Data Analyst - O2C - Bangalore   \n",
       "9                                Intern Data Analyst   \n",
       "\n",
       "                              Location                              Company  \\\n",
       "0                            Bengaluru    Flipkart Internet Private Limited   \n",
       "1      Pune, Delhi, Bengaluru, Gurgaon        Boston Scientific Corporation   \n",
       "2                            Bengaluru    Flipkart Internet Private Limited   \n",
       "3                Bengaluru / Bangalore                   Schneider Electric   \n",
       "4                            Bengaluru  Shell India Markets Private Limited   \n",
       "5                            Bengaluru                Philips India Limited   \n",
       "6  Chennai, Pune, Bengaluru, Hyderabad                     Mindtree Limited   \n",
       "7                            Bengaluru               IBM India Pvt. Limited   \n",
       "8                            Bengaluru               RANDSTAD INDIA PVT LTD   \n",
       "9                            Bengaluru                   Outsource Big Data   \n",
       "\n",
       "                                     job_description  \n",
       "0  MIS/ Data Analyst-(SQL,Automation,Excel/PowerB...  \n",
       "1                                 Data Analyst - SAP  \n",
       "2                   Hiring Data Analysts on Contract  \n",
       "3                                Senior Data Analyst  \n",
       "4                                       Data Analyst  \n",
       "5                              Security Data Analyst  \n",
       "6  Data Analyst -Azure Data lake, Azure Data factory  \n",
       "7                            Business / Data Analyst  \n",
       "8                     Data Analyst - O2C - Bangalore  \n",
       "9                                Intern Data Analyst  "
      ]
     },
     "execution_count": 42,
     "metadata": {},
     "output_type": "execute_result"
    }
   ],
   "source": [
    "jobs"
   ]
  },
  {
   "cell_type": "code",
   "execution_count": null,
   "metadata": {},
   "outputs": [],
   "source": []
  }
 ],
 "metadata": {
  "kernelspec": {
   "display_name": "Python 3",
   "language": "python",
   "name": "python3"
  },
  "language_info": {
   "codemirror_mode": {
    "name": "ipython",
    "version": 3
   },
   "file_extension": ".py",
   "mimetype": "text/x-python",
   "name": "python",
   "nbconvert_exporter": "python",
   "pygments_lexer": "ipython3",
   "version": "3.8.3"
  }
 },
 "nbformat": 4,
 "nbformat_minor": 4
}
