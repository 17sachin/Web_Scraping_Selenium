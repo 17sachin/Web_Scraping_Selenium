{
 "cells": [
  {
   "cell_type": "code",
   "execution_count": 1,
   "metadata": {},
   "outputs": [
    {
     "name": "stdout",
     "output_type": "stream",
     "text": [
      "Requirement already satisfied: selenium in c:\\users\\hp\\anaconda3\\lib\\site-packages (3.141.0)\n",
      "Requirement already satisfied: urllib3 in c:\\users\\hp\\anaconda3\\lib\\site-packages (from selenium) (1.25.9)\n"
     ]
    }
   ],
   "source": [
    "!pip install selenium"
   ]
  },
  {
   "cell_type": "code",
   "execution_count": 2,
   "metadata": {},
   "outputs": [],
   "source": [
    "import selenium\n"
   ]
  },
  {
   "cell_type": "code",
   "execution_count": 3,
   "metadata": {},
   "outputs": [],
   "source": [
    "import pandas as pd"
   ]
  },
  {
   "cell_type": "code",
   "execution_count": 4,
   "metadata": {},
   "outputs": [],
   "source": [
    "from selenium import webdriver"
   ]
  },
  {
   "cell_type": "code",
   "execution_count": 5,
   "metadata": {},
   "outputs": [],
   "source": [
    "driver=webdriver.Chrome(\"D:\\\\chromedriver_win32\\\\chromedriver.exe\")"
   ]
  },
  {
   "cell_type": "code",
   "execution_count": 6,
   "metadata": {},
   "outputs": [],
   "source": [
    "driver.close()"
   ]
  },
  {
   "cell_type": "code",
   "execution_count": 7,
   "metadata": {},
   "outputs": [],
   "source": [
    "driver=webdriver.Chrome(\"D:\\\\chromedriver_win32\\\\chromedriver.exe\")"
   ]
  },
  {
   "cell_type": "code",
   "execution_count": 8,
   "metadata": {},
   "outputs": [],
   "source": [
    "driver.get('https://www.naukri.com/')"
   ]
  },
  {
   "cell_type": "code",
   "execution_count": 9,
   "metadata": {},
   "outputs": [],
   "source": [
    "#finding element for job search bar\n",
    "\n",
    "search_job= driver.find_element_by_id('qsb-keyword-sugg')\n",
    "search_job.send_keys(\"Data Analyst\")\n",
    "search_loc= driver.find_element_by_xpath(\"//input[@id='qsb-location-sugg']\")\n",
    "search_loc.send_keys(\"Bangalore\")"
   ]
  },
  {
   "cell_type": "code",
   "execution_count": 10,
   "metadata": {},
   "outputs": [],
   "source": [
    "search_btn=driver.find_element_by_xpath(\"//div[@class='search-btn']/button\")\n",
    "search_btn.click()"
   ]
  },
  {
   "cell_type": "code",
   "execution_count": 11,
   "metadata": {},
   "outputs": [],
   "source": [
    "#Specifying the url of the webpage to be scraped\n",
    "url=\"https://www.naukri.com/data-analyst-jobs-in-bangalore?k=data%20analyst&l=bangalore\""
   ]
  },
  {
   "cell_type": "code",
   "execution_count": 12,
   "metadata": {},
   "outputs": [],
   "source": [
    "#Lets open the webpage through our web driver\n",
    "driver.get(url)"
   ]
  },
  {
   "cell_type": "raw",
   "metadata": {},
   "source": [
    "#Now we need to create empty lists for 4 features\n",
    "1.job_titles 2.job_locations 3.company_names 4.experience_required"
   ]
  },
  {
   "cell_type": "code",
   "execution_count": 13,
   "metadata": {},
   "outputs": [],
   "source": [
    "job_titles=[]\n",
    "job_locations=[]\n",
    "company_names=[]\n",
    "experience_required=[]"
   ]
  },
  {
   "cell_type": "code",
   "execution_count": 14,
   "metadata": {},
   "outputs": [
    {
     "data": {
      "text/plain": [
       "[<selenium.webdriver.remote.webelement.WebElement (session=\"ac86b41017ec63dd9eb5d8633541a7c1\", element=\"9aaa3ae1-551d-4210-a464-476123cb9928\")>,\n",
       " <selenium.webdriver.remote.webelement.WebElement (session=\"ac86b41017ec63dd9eb5d8633541a7c1\", element=\"b35774d0-2b7d-4292-be75-6072dbacea55\")>,\n",
       " <selenium.webdriver.remote.webelement.WebElement (session=\"ac86b41017ec63dd9eb5d8633541a7c1\", element=\"3dad2ec5-9401-4d6d-8111-c86289504b6e\")>,\n",
       " <selenium.webdriver.remote.webelement.WebElement (session=\"ac86b41017ec63dd9eb5d8633541a7c1\", element=\"c86d08f5-ee26-4726-932f-1fb1a2ff2d5d\")>,\n",
       " <selenium.webdriver.remote.webelement.WebElement (session=\"ac86b41017ec63dd9eb5d8633541a7c1\", element=\"fba9ff0d-2a68-4d6d-a60f-9b6e924a0004\")>,\n",
       " <selenium.webdriver.remote.webelement.WebElement (session=\"ac86b41017ec63dd9eb5d8633541a7c1\", element=\"2ea3f755-8fb1-4c86-958d-e9230a18a3ee\")>,\n",
       " <selenium.webdriver.remote.webelement.WebElement (session=\"ac86b41017ec63dd9eb5d8633541a7c1\", element=\"8576e268-2e07-4eec-bf3e-658f8673eaa1\")>,\n",
       " <selenium.webdriver.remote.webelement.WebElement (session=\"ac86b41017ec63dd9eb5d8633541a7c1\", element=\"44ed5d18-27ae-402e-bbba-2456a5045a29\")>,\n",
       " <selenium.webdriver.remote.webelement.WebElement (session=\"ac86b41017ec63dd9eb5d8633541a7c1\", element=\"d0bb8d93-91cc-4b87-ba96-affd669b0b9a\")>,\n",
       " <selenium.webdriver.remote.webelement.WebElement (session=\"ac86b41017ec63dd9eb5d8633541a7c1\", element=\"f9868e16-c631-4f43-9310-e2bb5ad7a9fe\")>]"
      ]
     },
     "execution_count": 14,
     "metadata": {},
     "output_type": "execute_result"
    }
   ],
   "source": [
    "#Extract the tag having the job-titles\n",
    "titles_tags=driver.find_elements_by_xpath(\"//a[@class='title fw500 ellipsis']\")\n",
    "titles_tags[0:10]"
   ]
  },
  {
   "cell_type": "code",
   "execution_count": 15,
   "metadata": {},
   "outputs": [
    {
     "data": {
      "text/plain": [
       "['MIS/ Data Analyst-(SQL,Automation,Excel/PowerBI,Dashboards) - Contract',\n",
       " 'Data Analyst - SAP',\n",
       " 'Hiring Data Analysts on Contract',\n",
       " 'Senior Data Analyst',\n",
       " 'Data Analyst',\n",
       " 'Security Data Analyst',\n",
       " 'Data Analyst -Azure Data lake, Azure Data factory',\n",
       " 'Business / Data Analyst',\n",
       " 'Data Analyst - O2C - Bangalore',\n",
       " 'Intern Data Analyst']"
      ]
     },
     "execution_count": 15,
     "metadata": {},
     "output_type": "execute_result"
    }
   ],
   "source": [
    "#Now need to extratc the text from these tags\n",
    "\n",
    "for i in titles_tags:\n",
    "    title=i.text\n",
    "    job_titles.append(title)\n",
    "job_titles[0:10]"
   ]
  },
  {
   "cell_type": "code",
   "execution_count": 16,
   "metadata": {},
   "outputs": [
    {
     "data": {
      "text/plain": [
       "[<selenium.webdriver.remote.webelement.WebElement (session=\"ac86b41017ec63dd9eb5d8633541a7c1\", element=\"2e18bb52-fd61-49c9-8deb-feb6c22e592d\")>,\n",
       " <selenium.webdriver.remote.webelement.WebElement (session=\"ac86b41017ec63dd9eb5d8633541a7c1\", element=\"0f968ec9-943a-4cf6-8404-384d5a117abf\")>,\n",
       " <selenium.webdriver.remote.webelement.WebElement (session=\"ac86b41017ec63dd9eb5d8633541a7c1\", element=\"93596082-670b-4ff2-bd71-590de12edb8e\")>,\n",
       " <selenium.webdriver.remote.webelement.WebElement (session=\"ac86b41017ec63dd9eb5d8633541a7c1\", element=\"e4e87751-fa6d-496c-802e-9df54d5d477a\")>,\n",
       " <selenium.webdriver.remote.webelement.WebElement (session=\"ac86b41017ec63dd9eb5d8633541a7c1\", element=\"91710283-95b5-42c6-9823-7f8b4bb80bc2\")>,\n",
       " <selenium.webdriver.remote.webelement.WebElement (session=\"ac86b41017ec63dd9eb5d8633541a7c1\", element=\"a5698076-4499-475e-b3c7-9e2345bf605d\")>,\n",
       " <selenium.webdriver.remote.webelement.WebElement (session=\"ac86b41017ec63dd9eb5d8633541a7c1\", element=\"9e7a9363-884b-440a-8910-7bdbefa9e6c4\")>,\n",
       " <selenium.webdriver.remote.webelement.WebElement (session=\"ac86b41017ec63dd9eb5d8633541a7c1\", element=\"23f8dfa1-249f-4243-9420-13cc7d4e28e5\")>,\n",
       " <selenium.webdriver.remote.webelement.WebElement (session=\"ac86b41017ec63dd9eb5d8633541a7c1\", element=\"f693708b-1a00-4e92-93ef-690b8d547c41\")>,\n",
       " <selenium.webdriver.remote.webelement.WebElement (session=\"ac86b41017ec63dd9eb5d8633541a7c1\", element=\"3d336110-c582-4351-b768-4b64750728f3\")>]"
      ]
     },
     "execution_count": 16,
     "metadata": {},
     "output_type": "execute_result"
    }
   ],
   "source": [
    "#Now need to extract the tags having job locations\n",
    "\n",
    "locations_tags=driver.find_elements_by_xpath(\"//li[@class='fleft grey-text br2 placeHolderLi location']/span[1]\")\n",
    "locations_tags[0:10]"
   ]
  },
  {
   "cell_type": "code",
   "execution_count": 17,
   "metadata": {},
   "outputs": [
    {
     "data": {
      "text/plain": [
       "['Bengaluru',\n",
       " 'Pune, Delhi, Bengaluru, Gurgaon',\n",
       " 'Bengaluru',\n",
       " 'Bengaluru / Bangalore',\n",
       " 'Bengaluru',\n",
       " 'Bengaluru',\n",
       " 'Chennai, Pune, Bengaluru, Hyderabad',\n",
       " 'Bengaluru',\n",
       " 'Bengaluru',\n",
       " 'Bengaluru']"
      ]
     },
     "execution_count": 17,
     "metadata": {},
     "output_type": "execute_result"
    }
   ],
   "source": [
    "for i in locations_tags:\n",
    "    location_name=i.text\n",
    "    job_locations.append(location_name)\n",
    "job_locations[0:10]"
   ]
  },
  {
   "cell_type": "code",
   "execution_count": 18,
   "metadata": {},
   "outputs": [
    {
     "data": {
      "text/plain": [
       "[<selenium.webdriver.remote.webelement.WebElement (session=\"ac86b41017ec63dd9eb5d8633541a7c1\", element=\"44e22ca1-bbe9-4961-bbde-044e6bf1827e\")>,\n",
       " <selenium.webdriver.remote.webelement.WebElement (session=\"ac86b41017ec63dd9eb5d8633541a7c1\", element=\"9db9fc1a-f864-471b-93e6-e9be070d1f17\")>,\n",
       " <selenium.webdriver.remote.webelement.WebElement (session=\"ac86b41017ec63dd9eb5d8633541a7c1\", element=\"0028ceb2-7474-4cc7-a6b1-a85788bc3d8d\")>,\n",
       " <selenium.webdriver.remote.webelement.WebElement (session=\"ac86b41017ec63dd9eb5d8633541a7c1\", element=\"ee8f85d6-b579-47e0-b88c-58abd131934a\")>,\n",
       " <selenium.webdriver.remote.webelement.WebElement (session=\"ac86b41017ec63dd9eb5d8633541a7c1\", element=\"80faeba1-6ca2-4569-8360-06a05a441c2a\")>,\n",
       " <selenium.webdriver.remote.webelement.WebElement (session=\"ac86b41017ec63dd9eb5d8633541a7c1\", element=\"31fed9f6-0173-449c-98c6-71e8cc7a52c5\")>,\n",
       " <selenium.webdriver.remote.webelement.WebElement (session=\"ac86b41017ec63dd9eb5d8633541a7c1\", element=\"47f4d158-ad87-4443-b7da-7a16b5e8437e\")>,\n",
       " <selenium.webdriver.remote.webelement.WebElement (session=\"ac86b41017ec63dd9eb5d8633541a7c1\", element=\"9bf8dfd3-f2d5-4b0f-9b05-9b67d1bdc7af\")>,\n",
       " <selenium.webdriver.remote.webelement.WebElement (session=\"ac86b41017ec63dd9eb5d8633541a7c1\", element=\"4f8f7ff3-5d61-4a73-b60a-30f1bcdd9e83\")>,\n",
       " <selenium.webdriver.remote.webelement.WebElement (session=\"ac86b41017ec63dd9eb5d8633541a7c1\", element=\"ed8d46af-2d69-46fd-85ed-bdf1c5e72764\")>]"
      ]
     },
     "execution_count": 18,
     "metadata": {},
     "output_type": "execute_result"
    }
   ],
   "source": [
    "#Now need to extract the tags having company names\n",
    "\n",
    "companies_tags=driver.find_elements_by_xpath(\"//a[@class='subTitle ellipsis fleft']\")\n",
    "companies_tags[0:10]"
   ]
  },
  {
   "cell_type": "code",
   "execution_count": 19,
   "metadata": {},
   "outputs": [
    {
     "data": {
      "text/plain": [
       "['Flipkart Internet Private Limited',\n",
       " 'Boston Scientific Corporation',\n",
       " 'Flipkart Internet Private Limited',\n",
       " 'Schneider Electric',\n",
       " 'Shell India Markets Private Limited',\n",
       " 'Philips India Limited',\n",
       " 'Mindtree Limited',\n",
       " 'IBM India Pvt. Limited',\n",
       " 'RANDSTAD INDIA PVT LTD',\n",
       " 'Outsource Big Data']"
      ]
     },
     "execution_count": 19,
     "metadata": {},
     "output_type": "execute_result"
    }
   ],
   "source": [
    "for i in companies_tags:\n",
    "    company_name=i.text\n",
    "    company_names.append(company_name)\n",
    "company_names[0:10]"
   ]
  },
  {
   "cell_type": "code",
   "execution_count": 20,
   "metadata": {},
   "outputs": [
    {
     "data": {
      "text/plain": [
       "[<selenium.webdriver.remote.webelement.WebElement (session=\"ac86b41017ec63dd9eb5d8633541a7c1\", element=\"0b49e00f-20bc-400a-852d-635ea56282fc\")>,\n",
       " <selenium.webdriver.remote.webelement.WebElement (session=\"ac86b41017ec63dd9eb5d8633541a7c1\", element=\"e3325235-60a5-4715-b4af-94e57952220d\")>,\n",
       " <selenium.webdriver.remote.webelement.WebElement (session=\"ac86b41017ec63dd9eb5d8633541a7c1\", element=\"69e26533-a28f-4020-b9ee-684eae97f1f5\")>,\n",
       " <selenium.webdriver.remote.webelement.WebElement (session=\"ac86b41017ec63dd9eb5d8633541a7c1\", element=\"f2ccf953-700b-4ee3-948a-6b58dde3659c\")>,\n",
       " <selenium.webdriver.remote.webelement.WebElement (session=\"ac86b41017ec63dd9eb5d8633541a7c1\", element=\"4b5637bf-4a20-4fad-86b2-27a564065a5e\")>,\n",
       " <selenium.webdriver.remote.webelement.WebElement (session=\"ac86b41017ec63dd9eb5d8633541a7c1\", element=\"97bd9804-390f-4b48-be63-392abdd3a7d4\")>,\n",
       " <selenium.webdriver.remote.webelement.WebElement (session=\"ac86b41017ec63dd9eb5d8633541a7c1\", element=\"bdab9d36-7130-42bf-82c0-942df5306ade\")>,\n",
       " <selenium.webdriver.remote.webelement.WebElement (session=\"ac86b41017ec63dd9eb5d8633541a7c1\", element=\"6e851e8d-d6af-48ba-99ab-11b2dc69e45f\")>,\n",
       " <selenium.webdriver.remote.webelement.WebElement (session=\"ac86b41017ec63dd9eb5d8633541a7c1\", element=\"3b79476c-c7ee-4a6c-bcc5-35cc6187a091\")>,\n",
       " <selenium.webdriver.remote.webelement.WebElement (session=\"ac86b41017ec63dd9eb5d8633541a7c1\", element=\"cadfdadc-3bb6-4593-ae6e-0801a9ffa37a\")>]"
      ]
     },
     "execution_count": 20,
     "metadata": {},
     "output_type": "execute_result"
    }
   ],
   "source": [
    "#Now need to extract the tags having experience required\n",
    "\n",
    "experience_tags=driver.find_elements_by_xpath(\"//li[@class='fleft grey-text br2 placeHolderLi experience']\")\n",
    "experience_tags[0:10]"
   ]
  },
  {
   "cell_type": "code",
   "execution_count": 21,
   "metadata": {},
   "outputs": [
    {
     "data": {
      "text/plain": [
       "['1-4 Yrs',\n",
       " '3-5 Yrs',\n",
       " '2-5 Yrs',\n",
       " '2-5 Yrs',\n",
       " '5-8 Yrs',\n",
       " '2-4 Yrs',\n",
       " '5-9 Yrs',\n",
       " '2-4 Yrs',\n",
       " '2-4 Yrs',\n",
       " '0-1 Yrs']"
      ]
     },
     "execution_count": 21,
     "metadata": {},
     "output_type": "execute_result"
    }
   ],
   "source": [
    "for i in experience_tags:\n",
    "    experience=i.text\n",
    "    experience_required.append(experience)\n",
    "experience_required[0:10]"
   ]
  },
  {
   "cell_type": "code",
   "execution_count": 22,
   "metadata": {},
   "outputs": [
    {
     "name": "stdout",
     "output_type": "stream",
     "text": [
      "20 20 20 20\n"
     ]
    }
   ],
   "source": [
    "#Now we need to check the length of lists\n",
    "print(len(job_titles),len(job_locations),len(company_names),len(experience_required))"
   ]
  },
  {
   "cell_type": "code",
   "execution_count": 25,
   "metadata": {},
   "outputs": [],
   "source": [
    "jobs=pd.DataFrame({})\n",
    "jobs['Title']=job_titles[0:10]\n",
    "jobs['Location']=job_locations[0:10]\n",
    "jobs['Company']=company_names[0:10]\n",
    "jobs['Experience_req']=experience_required[0:10]"
   ]
  },
  {
   "cell_type": "code",
   "execution_count": 26,
   "metadata": {},
   "outputs": [
    {
     "data": {
      "text/html": [
       "<div>\n",
       "<style scoped>\n",
       "    .dataframe tbody tr th:only-of-type {\n",
       "        vertical-align: middle;\n",
       "    }\n",
       "\n",
       "    .dataframe tbody tr th {\n",
       "        vertical-align: top;\n",
       "    }\n",
       "\n",
       "    .dataframe thead th {\n",
       "        text-align: right;\n",
       "    }\n",
       "</style>\n",
       "<table border=\"1\" class=\"dataframe\">\n",
       "  <thead>\n",
       "    <tr style=\"text-align: right;\">\n",
       "      <th></th>\n",
       "      <th>Title</th>\n",
       "      <th>Location</th>\n",
       "      <th>Company</th>\n",
       "      <th>Experience_req</th>\n",
       "    </tr>\n",
       "  </thead>\n",
       "  <tbody>\n",
       "    <tr>\n",
       "      <th>0</th>\n",
       "      <td>MIS/ Data Analyst-(SQL,Automation,Excel/PowerB...</td>\n",
       "      <td>Bengaluru</td>\n",
       "      <td>Flipkart Internet Private Limited</td>\n",
       "      <td>1-4 Yrs</td>\n",
       "    </tr>\n",
       "    <tr>\n",
       "      <th>1</th>\n",
       "      <td>Data Analyst - SAP</td>\n",
       "      <td>Pune, Delhi, Bengaluru, Gurgaon</td>\n",
       "      <td>Boston Scientific Corporation</td>\n",
       "      <td>3-5 Yrs</td>\n",
       "    </tr>\n",
       "    <tr>\n",
       "      <th>2</th>\n",
       "      <td>Hiring Data Analysts on Contract</td>\n",
       "      <td>Bengaluru</td>\n",
       "      <td>Flipkart Internet Private Limited</td>\n",
       "      <td>2-5 Yrs</td>\n",
       "    </tr>\n",
       "    <tr>\n",
       "      <th>3</th>\n",
       "      <td>Senior Data Analyst</td>\n",
       "      <td>Bengaluru / Bangalore</td>\n",
       "      <td>Schneider Electric</td>\n",
       "      <td>2-5 Yrs</td>\n",
       "    </tr>\n",
       "    <tr>\n",
       "      <th>4</th>\n",
       "      <td>Data Analyst</td>\n",
       "      <td>Bengaluru</td>\n",
       "      <td>Shell India Markets Private Limited</td>\n",
       "      <td>5-8 Yrs</td>\n",
       "    </tr>\n",
       "    <tr>\n",
       "      <th>5</th>\n",
       "      <td>Security Data Analyst</td>\n",
       "      <td>Bengaluru</td>\n",
       "      <td>Philips India Limited</td>\n",
       "      <td>2-4 Yrs</td>\n",
       "    </tr>\n",
       "    <tr>\n",
       "      <th>6</th>\n",
       "      <td>Data Analyst -Azure Data lake, Azure Data factory</td>\n",
       "      <td>Chennai, Pune, Bengaluru, Hyderabad</td>\n",
       "      <td>Mindtree Limited</td>\n",
       "      <td>5-9 Yrs</td>\n",
       "    </tr>\n",
       "    <tr>\n",
       "      <th>7</th>\n",
       "      <td>Business / Data Analyst</td>\n",
       "      <td>Bengaluru</td>\n",
       "      <td>IBM India Pvt. Limited</td>\n",
       "      <td>2-4 Yrs</td>\n",
       "    </tr>\n",
       "    <tr>\n",
       "      <th>8</th>\n",
       "      <td>Data Analyst - O2C - Bangalore</td>\n",
       "      <td>Bengaluru</td>\n",
       "      <td>RANDSTAD INDIA PVT LTD</td>\n",
       "      <td>2-4 Yrs</td>\n",
       "    </tr>\n",
       "    <tr>\n",
       "      <th>9</th>\n",
       "      <td>Intern Data Analyst</td>\n",
       "      <td>Bengaluru</td>\n",
       "      <td>Outsource Big Data</td>\n",
       "      <td>0-1 Yrs</td>\n",
       "    </tr>\n",
       "  </tbody>\n",
       "</table>\n",
       "</div>"
      ],
      "text/plain": [
       "                                               Title  \\\n",
       "0  MIS/ Data Analyst-(SQL,Automation,Excel/PowerB...   \n",
       "1                                 Data Analyst - SAP   \n",
       "2                   Hiring Data Analysts on Contract   \n",
       "3                                Senior Data Analyst   \n",
       "4                                       Data Analyst   \n",
       "5                              Security Data Analyst   \n",
       "6  Data Analyst -Azure Data lake, Azure Data factory   \n",
       "7                            Business / Data Analyst   \n",
       "8                     Data Analyst - O2C - Bangalore   \n",
       "9                                Intern Data Analyst   \n",
       "\n",
       "                              Location                              Company  \\\n",
       "0                            Bengaluru    Flipkart Internet Private Limited   \n",
       "1      Pune, Delhi, Bengaluru, Gurgaon        Boston Scientific Corporation   \n",
       "2                            Bengaluru    Flipkart Internet Private Limited   \n",
       "3                Bengaluru / Bangalore                   Schneider Electric   \n",
       "4                            Bengaluru  Shell India Markets Private Limited   \n",
       "5                            Bengaluru                Philips India Limited   \n",
       "6  Chennai, Pune, Bengaluru, Hyderabad                     Mindtree Limited   \n",
       "7                            Bengaluru               IBM India Pvt. Limited   \n",
       "8                            Bengaluru               RANDSTAD INDIA PVT LTD   \n",
       "9                            Bengaluru                   Outsource Big Data   \n",
       "\n",
       "  Experience_req  \n",
       "0        1-4 Yrs  \n",
       "1        3-5 Yrs  \n",
       "2        2-5 Yrs  \n",
       "3        2-5 Yrs  \n",
       "4        5-8 Yrs  \n",
       "5        2-4 Yrs  \n",
       "6        5-9 Yrs  \n",
       "7        2-4 Yrs  \n",
       "8        2-4 Yrs  \n",
       "9        0-1 Yrs  "
      ]
     },
     "execution_count": 26,
     "metadata": {},
     "output_type": "execute_result"
    }
   ],
   "source": [
    "jobs"
   ]
  },
  {
   "cell_type": "code",
   "execution_count": null,
   "metadata": {},
   "outputs": [],
   "source": []
  }
 ],
 "metadata": {
  "kernelspec": {
   "display_name": "Python 3",
   "language": "python",
   "name": "python3"
  },
  "language_info": {
   "codemirror_mode": {
    "name": "ipython",
    "version": 3
   },
   "file_extension": ".py",
   "mimetype": "text/x-python",
   "name": "python",
   "nbconvert_exporter": "python",
   "pygments_lexer": "ipython3",
   "version": "3.8.3"
  }
 },
 "nbformat": 4,
 "nbformat_minor": 4
}
