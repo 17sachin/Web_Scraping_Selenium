{
 "cells": [
  {
   "cell_type": "code",
   "execution_count": 72,
   "metadata": {},
   "outputs": [
    {
     "name": "stdout",
     "output_type": "stream",
     "text": [
      "Requirement already satisfied: selenium in c:\\users\\hp\\anaconda3\\lib\\site-packages (3.141.0)\n",
      "Requirement already satisfied: urllib3 in c:\\users\\hp\\anaconda3\\lib\\site-packages (from selenium) (1.25.9)\n"
     ]
    }
   ],
   "source": [
    "!pip install selenium"
   ]
  },
  {
   "cell_type": "code",
   "execution_count": 73,
   "metadata": {},
   "outputs": [],
   "source": [
    "import selenium\n",
    "from selenium import webdriver"
   ]
  },
  {
   "cell_type": "code",
   "execution_count": 74,
   "metadata": {},
   "outputs": [],
   "source": [
    "driver=webdriver.Chrome(\"D:\\\\chromedriver_win32\\\\chromedriver.exe\")"
   ]
  },
  {
   "cell_type": "code",
   "execution_count": 75,
   "metadata": {},
   "outputs": [],
   "source": [
    "driver.close()"
   ]
  },
  {
   "cell_type": "code",
   "execution_count": 76,
   "metadata": {},
   "outputs": [],
   "source": [
    "driver=webdriver.Chrome(\"D:\\\\chromedriver_win32\\\\chromedriver.exe\")"
   ]
  },
  {
   "cell_type": "code",
   "execution_count": 77,
   "metadata": {},
   "outputs": [],
   "source": [
    "driver.get('https://www.glassdoor.co.in/Job/index.htm')"
   ]
  },
  {
   "cell_type": "code",
   "execution_count": 78,
   "metadata": {},
   "outputs": [],
   "source": [
    "#finding element for job search bar\n",
    "\n",
    "search_job= driver.find_element_by_id('KeywordSearch')\n",
    "search_job.send_keys(\"Data Scientist\")\n",
    "search_loc= driver.find_element_by_xpath(\"//input[@id='LocationSearch']\")\n",
    "search_loc.send_keys(\"Noida\")"
   ]
  },
  {
   "cell_type": "code",
   "execution_count": 79,
   "metadata": {},
   "outputs": [],
   "source": [
    "search_btn=driver.find_element_by_xpath(\"//button[@class='gd-btn-mkt']\")\n",
    "search_btn.click()"
   ]
  },
  {
   "cell_type": "code",
   "execution_count": 80,
   "metadata": {},
   "outputs": [],
   "source": [
    "#Specifying the url of the webpage to be scraped\n",
    "url=\"https://www.glassdoor.co.in/Job/noida-data-scientist-jobs-SRCH_IL.0,5_IC4477468_KO6,20.htm\""
   ]
  },
  {
   "cell_type": "code",
   "execution_count": 81,
   "metadata": {},
   "outputs": [],
   "source": [
    "#Lets open the webpage through our web driver\n",
    "driver.get(url)"
   ]
  },
  {
   "cell_type": "raw",
   "metadata": {},
   "source": [
    "#Now we need to create empty lists for 4 features\n",
    "1.company_names 2.No_of_daysago 3.Rating_of_company"
   ]
  },
  {
   "cell_type": "code",
   "execution_count": 82,
   "metadata": {},
   "outputs": [],
   "source": [
    "company_names=[]\n",
    "No_of_daysago=[]\n",
    "Rating_of_company=[]"
   ]
  },
  {
   "cell_type": "code",
   "execution_count": 83,
   "metadata": {},
   "outputs": [
    {
     "data": {
      "text/plain": [
       "[<selenium.webdriver.remote.webelement.WebElement (session=\"30d5ea17875b62b7d865277ab82bb3d6\", element=\"e5e2a0ac-31f0-4009-a768-6501c63a8f27\")>,\n",
       " <selenium.webdriver.remote.webelement.WebElement (session=\"30d5ea17875b62b7d865277ab82bb3d6\", element=\"d70967f5-ba0e-4d30-a61e-5f446a53d28c\")>,\n",
       " <selenium.webdriver.remote.webelement.WebElement (session=\"30d5ea17875b62b7d865277ab82bb3d6\", element=\"f7ae9fca-d7fc-4a16-bd07-c86b8559a450\")>,\n",
       " <selenium.webdriver.remote.webelement.WebElement (session=\"30d5ea17875b62b7d865277ab82bb3d6\", element=\"d5003b84-4f62-4665-bfaa-424d47ae7278\")>,\n",
       " <selenium.webdriver.remote.webelement.WebElement (session=\"30d5ea17875b62b7d865277ab82bb3d6\", element=\"2b45b324-f3ab-4d69-941c-e025275fd6db\")>,\n",
       " <selenium.webdriver.remote.webelement.WebElement (session=\"30d5ea17875b62b7d865277ab82bb3d6\", element=\"44117411-2f53-4303-87eb-f8e91a4c7b41\")>,\n",
       " <selenium.webdriver.remote.webelement.WebElement (session=\"30d5ea17875b62b7d865277ab82bb3d6\", element=\"88cc8522-b98d-4ab3-8e75-1c194eebd1b3\")>,\n",
       " <selenium.webdriver.remote.webelement.WebElement (session=\"30d5ea17875b62b7d865277ab82bb3d6\", element=\"17676e6d-15a2-455d-bf94-c57019ec75d2\")>,\n",
       " <selenium.webdriver.remote.webelement.WebElement (session=\"30d5ea17875b62b7d865277ab82bb3d6\", element=\"1dd02ec3-d505-471c-b9ed-a4c23995ba8b\")>,\n",
       " <selenium.webdriver.remote.webelement.WebElement (session=\"30d5ea17875b62b7d865277ab82bb3d6\", element=\"b89828d3-07ba-4a1d-81f9-2c05300b5849\")>]"
      ]
     },
     "execution_count": 83,
     "metadata": {},
     "output_type": "execute_result"
    }
   ],
   "source": [
    "#Extract the tag having the company names\n",
    "companies_tags=driver.find_elements_by_xpath(\"//div[@class='d-flex justify-content-between align-items-start']\")\n",
    "companies_tags[0:10]"
   ]
  },
  {
   "cell_type": "code",
   "execution_count": 84,
   "metadata": {},
   "outputs": [
    {
     "data": {
      "text/plain": [
       "['BlackRock',\n",
       " 'BlackRock',\n",
       " 'Brickred',\n",
       " 'Srijan Technologies Pvt Ltd',\n",
       " 'Lumiq',\n",
       " 'Adobe',\n",
       " 'Terra Economics & Analytics Lab (TEAL)',\n",
       " 'Fitfyles',\n",
       " 'Microsoft',\n",
       " 'Axslogic']"
      ]
     },
     "execution_count": 84,
     "metadata": {},
     "output_type": "execute_result"
    }
   ],
   "source": [
    "for i in companies_tags:\n",
    "    company_name=i.text\n",
    "    company_names.append(company_name)\n",
    "company_names[0:10]"
   ]
  },
  {
   "cell_type": "code",
   "execution_count": 85,
   "metadata": {},
   "outputs": [
    {
     "data": {
      "text/plain": [
       "[<selenium.webdriver.remote.webelement.WebElement (session=\"30d5ea17875b62b7d865277ab82bb3d6\", element=\"e8c4ffab-7d38-4bea-9886-841418ea61a3\")>,\n",
       " <selenium.webdriver.remote.webelement.WebElement (session=\"30d5ea17875b62b7d865277ab82bb3d6\", element=\"0654b425-a5e8-4046-8138-b886ff41ae0f\")>,\n",
       " <selenium.webdriver.remote.webelement.WebElement (session=\"30d5ea17875b62b7d865277ab82bb3d6\", element=\"312911fa-4284-4b80-b3ef-25265d66c0b2\")>,\n",
       " <selenium.webdriver.remote.webelement.WebElement (session=\"30d5ea17875b62b7d865277ab82bb3d6\", element=\"3a35c33c-40a3-4d8c-90df-315b40f6341e\")>,\n",
       " <selenium.webdriver.remote.webelement.WebElement (session=\"30d5ea17875b62b7d865277ab82bb3d6\", element=\"e6706346-0d61-467e-aa79-3932f54919f2\")>,\n",
       " <selenium.webdriver.remote.webelement.WebElement (session=\"30d5ea17875b62b7d865277ab82bb3d6\", element=\"13921cc1-3dde-4713-a7f1-052c2f3edf84\")>,\n",
       " <selenium.webdriver.remote.webelement.WebElement (session=\"30d5ea17875b62b7d865277ab82bb3d6\", element=\"d9b925bf-71d6-494d-89d9-777e4f298986\")>,\n",
       " <selenium.webdriver.remote.webelement.WebElement (session=\"30d5ea17875b62b7d865277ab82bb3d6\", element=\"1471563b-50b1-4fcb-b0d9-3866131f6308\")>,\n",
       " <selenium.webdriver.remote.webelement.WebElement (session=\"30d5ea17875b62b7d865277ab82bb3d6\", element=\"6bfd5bdf-a1ce-4f82-936f-d4e4282f3380\")>,\n",
       " <selenium.webdriver.remote.webelement.WebElement (session=\"30d5ea17875b62b7d865277ab82bb3d6\", element=\"fa2dcebe-b434-4f69-b654-d3dfa1627e45\")>]"
      ]
     },
     "execution_count": 85,
     "metadata": {},
     "output_type": "execute_result"
    }
   ],
   "source": [
    "#Extract the tag having the no of days ago job posted\n",
    "no_daysago_tags=driver.find_elements_by_xpath(\"//div[@class='d-flex align-items-end pl-std css-mi55ob']\")\n",
    "no_daysago_tags[0:10]"
   ]
  },
  {
   "cell_type": "code",
   "execution_count": 86,
   "metadata": {},
   "outputs": [
    {
     "data": {
      "text/plain": [
       "['2d', '18d', '21d', '7d', '20d', '3d', '3d', '1d', '21d', '24h']"
      ]
     },
     "execution_count": 86,
     "metadata": {},
     "output_type": "execute_result"
    }
   ],
   "source": [
    "for i in no_daysago_tags:\n",
    "    days_ago=i.text\n",
    "    No_of_daysago.append(days_ago)\n",
    "No_of_daysago[0:10]"
   ]
  },
  {
   "cell_type": "code",
   "execution_count": 87,
   "metadata": {},
   "outputs": [
    {
     "data": {
      "text/plain": [
       "[<selenium.webdriver.remote.webelement.WebElement (session=\"30d5ea17875b62b7d865277ab82bb3d6\", element=\"b62f6789-ff6f-4653-86d1-a11229582764\")>,\n",
       " <selenium.webdriver.remote.webelement.WebElement (session=\"30d5ea17875b62b7d865277ab82bb3d6\", element=\"8285ec42-cbd7-403c-8d63-c3e1384badbe\")>,\n",
       " <selenium.webdriver.remote.webelement.WebElement (session=\"30d5ea17875b62b7d865277ab82bb3d6\", element=\"aa6f4a8e-595f-4723-82ce-e22815b43d39\")>,\n",
       " <selenium.webdriver.remote.webelement.WebElement (session=\"30d5ea17875b62b7d865277ab82bb3d6\", element=\"81ec72db-9478-4f7a-8e34-d04272d3058d\")>,\n",
       " <selenium.webdriver.remote.webelement.WebElement (session=\"30d5ea17875b62b7d865277ab82bb3d6\", element=\"aa8c7ef5-6c75-43f9-a636-eadaa47d1008\")>,\n",
       " <selenium.webdriver.remote.webelement.WebElement (session=\"30d5ea17875b62b7d865277ab82bb3d6\", element=\"559afdc2-8d9b-42bf-9d34-45cf30b0f08f\")>,\n",
       " <selenium.webdriver.remote.webelement.WebElement (session=\"30d5ea17875b62b7d865277ab82bb3d6\", element=\"eda0cef9-cdfd-4abc-94b7-5e218c2c6b18\")>,\n",
       " <selenium.webdriver.remote.webelement.WebElement (session=\"30d5ea17875b62b7d865277ab82bb3d6\", element=\"336666e0-39b2-4016-9361-595c655348e2\")>,\n",
       " <selenium.webdriver.remote.webelement.WebElement (session=\"30d5ea17875b62b7d865277ab82bb3d6\", element=\"09ccb850-2f3a-46f2-9006-c5ba5d062126\")>,\n",
       " <selenium.webdriver.remote.webelement.WebElement (session=\"30d5ea17875b62b7d865277ab82bb3d6\", element=\"0cc0e0ea-3777-4ee6-841c-0c5d101ffac2\")>]"
      ]
     },
     "execution_count": 87,
     "metadata": {},
     "output_type": "execute_result"
    }
   ],
   "source": [
    "#Extract the tag having the Rating\n",
    "ratings_tags=driver.find_elements_by_xpath(\"//span[@class='css-19pjha7 e1cjmv6j1']\")\n",
    "ratings_tags[0:10]"
   ]
  },
  {
   "cell_type": "code",
   "execution_count": 88,
   "metadata": {},
   "outputs": [
    {
     "data": {
      "text/plain": [
       "['4.1', '4.1', '3.9', '3.9', '3.6', '4.4', '4.9', '4.4', '4.3', '4.0']"
      ]
     },
     "execution_count": 88,
     "metadata": {},
     "output_type": "execute_result"
    }
   ],
   "source": [
    "for i in ratings_tags:\n",
    "    ratings=i.text\n",
    "    Rating_of_company.append(ratings)\n",
    "Rating_of_company[0:10]"
   ]
  },
  {
   "cell_type": "code",
   "execution_count": 89,
   "metadata": {},
   "outputs": [
    {
     "name": "stdout",
     "output_type": "stream",
     "text": [
      "32 32 25\n"
     ]
    }
   ],
   "source": [
    "#Now we need to check the length of lists\n",
    "print(len(company_names),len(No_of_daysago),len(Rating_of_company))"
   ]
  },
  {
   "cell_type": "code",
   "execution_count": 91,
   "metadata": {},
   "outputs": [
    {
     "data": {
      "application/javascript": [
       "\n",
       "        if (window._pyforest_update_imports_cell) { window._pyforest_update_imports_cell('import pandas as pd'); }\n",
       "    "
      ],
      "text/plain": [
       "<IPython.core.display.Javascript object>"
      ]
     },
     "metadata": {},
     "output_type": "display_data"
    }
   ],
   "source": [
    "jobs=pd.DataFrame({})\n",
    "jobs['Copmpany_Name']=company_names[0:10]\n",
    "jobs['No_of_days_ago']=No_of_daysago[0:10]\n",
    "jobs['Rating']=Rating_of_company[0:10]"
   ]
  },
  {
   "cell_type": "code",
   "execution_count": 92,
   "metadata": {},
   "outputs": [
    {
     "data": {
      "text/html": [
       "<div>\n",
       "<style scoped>\n",
       "    .dataframe tbody tr th:only-of-type {\n",
       "        vertical-align: middle;\n",
       "    }\n",
       "\n",
       "    .dataframe tbody tr th {\n",
       "        vertical-align: top;\n",
       "    }\n",
       "\n",
       "    .dataframe thead th {\n",
       "        text-align: right;\n",
       "    }\n",
       "</style>\n",
       "<table border=\"1\" class=\"dataframe\">\n",
       "  <thead>\n",
       "    <tr style=\"text-align: right;\">\n",
       "      <th></th>\n",
       "      <th>Copmpany_Name</th>\n",
       "      <th>No_of_days_ago</th>\n",
       "      <th>Rating</th>\n",
       "    </tr>\n",
       "  </thead>\n",
       "  <tbody>\n",
       "    <tr>\n",
       "      <th>0</th>\n",
       "      <td>BlackRock</td>\n",
       "      <td>2d</td>\n",
       "      <td>4.1</td>\n",
       "    </tr>\n",
       "    <tr>\n",
       "      <th>1</th>\n",
       "      <td>BlackRock</td>\n",
       "      <td>18d</td>\n",
       "      <td>4.1</td>\n",
       "    </tr>\n",
       "    <tr>\n",
       "      <th>2</th>\n",
       "      <td>Brickred</td>\n",
       "      <td>21d</td>\n",
       "      <td>3.9</td>\n",
       "    </tr>\n",
       "    <tr>\n",
       "      <th>3</th>\n",
       "      <td>Srijan Technologies Pvt Ltd</td>\n",
       "      <td>7d</td>\n",
       "      <td>3.9</td>\n",
       "    </tr>\n",
       "    <tr>\n",
       "      <th>4</th>\n",
       "      <td>Lumiq</td>\n",
       "      <td>20d</td>\n",
       "      <td>3.6</td>\n",
       "    </tr>\n",
       "    <tr>\n",
       "      <th>5</th>\n",
       "      <td>Adobe</td>\n",
       "      <td>3d</td>\n",
       "      <td>4.4</td>\n",
       "    </tr>\n",
       "    <tr>\n",
       "      <th>6</th>\n",
       "      <td>Terra Economics &amp; Analytics Lab (TEAL)</td>\n",
       "      <td>3d</td>\n",
       "      <td>4.9</td>\n",
       "    </tr>\n",
       "    <tr>\n",
       "      <th>7</th>\n",
       "      <td>Fitfyles</td>\n",
       "      <td>1d</td>\n",
       "      <td>4.4</td>\n",
       "    </tr>\n",
       "    <tr>\n",
       "      <th>8</th>\n",
       "      <td>Microsoft</td>\n",
       "      <td>21d</td>\n",
       "      <td>4.3</td>\n",
       "    </tr>\n",
       "    <tr>\n",
       "      <th>9</th>\n",
       "      <td>Axslogic</td>\n",
       "      <td>24h</td>\n",
       "      <td>4.0</td>\n",
       "    </tr>\n",
       "  </tbody>\n",
       "</table>\n",
       "</div>"
      ],
      "text/plain": [
       "                            Copmpany_Name No_of_days_ago Rating\n",
       "0                               BlackRock             2d    4.1\n",
       "1                               BlackRock            18d    4.1\n",
       "2                                Brickred            21d    3.9\n",
       "3             Srijan Technologies Pvt Ltd             7d    3.9\n",
       "4                                   Lumiq            20d    3.6\n",
       "5                                   Adobe             3d    4.4\n",
       "6  Terra Economics & Analytics Lab (TEAL)             3d    4.9\n",
       "7                                Fitfyles             1d    4.4\n",
       "8                               Microsoft            21d    4.3\n",
       "9                                Axslogic            24h    4.0"
      ]
     },
     "execution_count": 92,
     "metadata": {},
     "output_type": "execute_result"
    }
   ],
   "source": [
    "jobs"
   ]
  },
  {
   "cell_type": "code",
   "execution_count": null,
   "metadata": {},
   "outputs": [],
   "source": []
  }
 ],
 "metadata": {
  "kernelspec": {
   "display_name": "Python 3",
   "language": "python",
   "name": "python3"
  },
  "language_info": {
   "codemirror_mode": {
    "name": "ipython",
    "version": 3
   },
   "file_extension": ".py",
   "mimetype": "text/x-python",
   "name": "python",
   "nbconvert_exporter": "python",
   "pygments_lexer": "ipython3",
   "version": "3.8.3"
  }
 },
 "nbformat": 4,
 "nbformat_minor": 4
}
