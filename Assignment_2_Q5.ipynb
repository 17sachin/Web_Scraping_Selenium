{
 "cells": [
  {
   "cell_type": "code",
   "execution_count": 35,
   "metadata": {},
   "outputs": [
    {
     "name": "stdout",
     "output_type": "stream",
     "text": [
      "Requirement already satisfied: selenium in c:\\users\\hp\\anaconda3\\lib\\site-packages (3.141.0)\n",
      "Requirement already satisfied: urllib3 in c:\\users\\hp\\anaconda3\\lib\\site-packages (from selenium) (1.25.9)\n"
     ]
    }
   ],
   "source": [
    "!pip install selenium"
   ]
  },
  {
   "cell_type": "code",
   "execution_count": 36,
   "metadata": {},
   "outputs": [],
   "source": [
    "import selenium\n",
    "from selenium import webdriver"
   ]
  },
  {
   "cell_type": "code",
   "execution_count": 37,
   "metadata": {},
   "outputs": [],
   "source": [
    "driver=webdriver.Chrome(\"D:\\\\chromedriver_win32\\\\chromedriver.exe\")"
   ]
  },
  {
   "cell_type": "code",
   "execution_count": 38,
   "metadata": {},
   "outputs": [],
   "source": [
    "driver.close()"
   ]
  },
  {
   "cell_type": "code",
   "execution_count": 39,
   "metadata": {},
   "outputs": [],
   "source": [
    "driver=webdriver.Chrome(\"D:\\\\chromedriver_win32\\\\chromedriver.exe\")"
   ]
  },
  {
   "cell_type": "code",
   "execution_count": 40,
   "metadata": {},
   "outputs": [],
   "source": [
    "driver.get('https://www.glassdoor.co.in/Salaries/index.htm')"
   ]
  },
  {
   "cell_type": "code",
   "execution_count": 41,
   "metadata": {},
   "outputs": [],
   "source": [
    "#finding element for job search bar\n",
    "\n",
    "search_job= driver.find_element_by_id('KeywordSearch')\n",
    "search_job.send_keys(\"Data Scientist\")\n",
    "search_loc= driver.find_element_by_xpath(\"//input[@id='LocationSearch']\")\n",
    "search_loc.send_keys(\"Noida\")"
   ]
  },
  {
   "cell_type": "code",
   "execution_count": 42,
   "metadata": {},
   "outputs": [],
   "source": [
    "search_btn=driver.find_element_by_xpath(\"//button[@class='gd-btn-mkt']\")\n",
    "search_btn.click()"
   ]
  },
  {
   "cell_type": "code",
   "execution_count": 43,
   "metadata": {},
   "outputs": [],
   "source": [
    "#Specifying the url of the webpage to be scraped\n",
    "url=\"https://www.glassdoor.co.in/Salaries/new-delhi-data-scientist-salary-SRCH_IL.0,9_IM1083_KO10,24.htm?clickSource=searchBtn\""
   ]
  },
  {
   "cell_type": "code",
   "execution_count": 44,
   "metadata": {},
   "outputs": [],
   "source": [
    "#Lets open the webpage through our web driver\n",
    "driver.get(url)"
   ]
  },
  {
   "cell_type": "raw",
   "metadata": {},
   "source": [
    "#Now we need to create empty lists for 4 features\n",
    "1.company_names 2.Rating_of_company 3.No_of_salaries 4.Max_salary 5.Min_salary"
   ]
  },
  {
   "cell_type": "code",
   "execution_count": 45,
   "metadata": {},
   "outputs": [],
   "source": [
    "company_names=[]\n",
    "No_of_salaries=[]\n",
    "Max_salary=[]\n",
    "Min_salary=[]\n",
    "Average_salary=[]"
   ]
  },
  {
   "cell_type": "code",
   "execution_count": 46,
   "metadata": {},
   "outputs": [
    {
     "data": {
      "text/plain": [
       "[<selenium.webdriver.remote.webelement.WebElement (session=\"0d48ab4c80476d50e5f83e28928f7a59\", element=\"dc7c1079-e48b-4417-984a-6e46ea7e09bb\")>,\n",
       " <selenium.webdriver.remote.webelement.WebElement (session=\"0d48ab4c80476d50e5f83e28928f7a59\", element=\"9f6edfd0-a1d3-4db9-abdb-6cab0a754287\")>,\n",
       " <selenium.webdriver.remote.webelement.WebElement (session=\"0d48ab4c80476d50e5f83e28928f7a59\", element=\"56b8c81a-d8ae-4c11-a9e5-d6654e5860d4\")>,\n",
       " <selenium.webdriver.remote.webelement.WebElement (session=\"0d48ab4c80476d50e5f83e28928f7a59\", element=\"026de7b4-7c01-47b3-b6b4-f20eca6537dd\")>,\n",
       " <selenium.webdriver.remote.webelement.WebElement (session=\"0d48ab4c80476d50e5f83e28928f7a59\", element=\"c0c3c86f-d412-48b6-88a0-03c0be40c760\")>,\n",
       " <selenium.webdriver.remote.webelement.WebElement (session=\"0d48ab4c80476d50e5f83e28928f7a59\", element=\"0ab83e45-6a97-4bb7-abdc-b972d028bb22\")>,\n",
       " <selenium.webdriver.remote.webelement.WebElement (session=\"0d48ab4c80476d50e5f83e28928f7a59\", element=\"7aabf1b0-4d8a-4da9-ba20-16e6f6097dde\")>,\n",
       " <selenium.webdriver.remote.webelement.WebElement (session=\"0d48ab4c80476d50e5f83e28928f7a59\", element=\"926edf74-0b49-4f5b-a75c-f320dffca1ca\")>,\n",
       " <selenium.webdriver.remote.webelement.WebElement (session=\"0d48ab4c80476d50e5f83e28928f7a59\", element=\"13f6d16a-92f6-4094-a0a4-1ab5a563d0f1\")>,\n",
       " <selenium.webdriver.remote.webelement.WebElement (session=\"0d48ab4c80476d50e5f83e28928f7a59\", element=\"ef0fa916-4783-4a4c-8f09-6bbe35602239\")>]"
      ]
     },
     "execution_count": 46,
     "metadata": {},
     "output_type": "execute_result"
    }
   ],
   "source": [
    "#Extract the tag having the company names\n",
    "companies_tags=driver.find_elements_by_xpath(\"//p[@class='m-0 ']\")\n",
    "companies_tags[0:10]"
   ]
  },
  {
   "cell_type": "code",
   "execution_count": 47,
   "metadata": {},
   "outputs": [
    {
     "data": {
      "text/plain": [
       "['Delhivery',\n",
       " 'Ericsson-Worldwide',\n",
       " 'Tata Consultancy Services',\n",
       " 'Accenture',\n",
       " 'IBM',\n",
       " 'UnitedHealth Group',\n",
       " 'Valiance Solutions',\n",
       " 'Innovaccer',\n",
       " 'Cognizant Technology Solutions',\n",
       " 'EXL Service']"
      ]
     },
     "execution_count": 47,
     "metadata": {},
     "output_type": "execute_result"
    }
   ],
   "source": [
    "for i in companies_tags:\n",
    "    company_name=i.text\n",
    "    company_names.append(company_name)\n",
    "company_names[0:10]"
   ]
  },
  {
   "cell_type": "code",
   "execution_count": 48,
   "metadata": {},
   "outputs": [
    {
     "data": {
      "text/plain": [
       "[<selenium.webdriver.remote.webelement.WebElement (session=\"0d48ab4c80476d50e5f83e28928f7a59\", element=\"9a3946ec-3430-493b-8d7b-79e97cc46d61\")>,\n",
       " <selenium.webdriver.remote.webelement.WebElement (session=\"0d48ab4c80476d50e5f83e28928f7a59\", element=\"16b6233f-ed7d-462c-b6f1-b54a256f33c1\")>,\n",
       " <selenium.webdriver.remote.webelement.WebElement (session=\"0d48ab4c80476d50e5f83e28928f7a59\", element=\"19ed7696-8760-45e4-8cf9-b757ece58330\")>,\n",
       " <selenium.webdriver.remote.webelement.WebElement (session=\"0d48ab4c80476d50e5f83e28928f7a59\", element=\"5611293c-2e84-49d4-ab20-bd6685aafdef\")>,\n",
       " <selenium.webdriver.remote.webelement.WebElement (session=\"0d48ab4c80476d50e5f83e28928f7a59\", element=\"ce1aa301-017a-428d-be85-d000919d3fc0\")>,\n",
       " <selenium.webdriver.remote.webelement.WebElement (session=\"0d48ab4c80476d50e5f83e28928f7a59\", element=\"947cca2a-5fcf-4552-bc33-a1f273e1ba1c\")>,\n",
       " <selenium.webdriver.remote.webelement.WebElement (session=\"0d48ab4c80476d50e5f83e28928f7a59\", element=\"d5e4fcd6-79cb-4e05-af6d-4c9ca3b35c75\")>,\n",
       " <selenium.webdriver.remote.webelement.WebElement (session=\"0d48ab4c80476d50e5f83e28928f7a59\", element=\"f28b8db9-1f32-4223-bcca-59772f11915e\")>,\n",
       " <selenium.webdriver.remote.webelement.WebElement (session=\"0d48ab4c80476d50e5f83e28928f7a59\", element=\"88a21c3c-6d4c-4514-bd55-ee72be00c9ec\")>,\n",
       " <selenium.webdriver.remote.webelement.WebElement (session=\"0d48ab4c80476d50e5f83e28928f7a59\", element=\"7d574d26-c060-4055-a3d3-328253e6f3b4\")>]"
      ]
     },
     "execution_count": 48,
     "metadata": {},
     "output_type": "execute_result"
    }
   ],
   "source": [
    "#Extract the tag having the No of Salaries\n",
    "salaries_tags=driver.find_elements_by_xpath(\"//p[@class='css-1uyte9r css-1kuy7z7 m-0 ']\")\n",
    "salaries_tags[0:10]"
   ]
  },
  {
   "cell_type": "code",
   "execution_count": 49,
   "metadata": {},
   "outputs": [
    {
     "data": {
      "text/plain": [
       "['13 salaries',\n",
       " '12 salaries',\n",
       " '11 salaries',\n",
       " '10 salaries',\n",
       " '10 salaries',\n",
       " '9 salaries',\n",
       " '8 salaries',\n",
       " '7 salaries',\n",
       " '6 salaries',\n",
       " '6 salaries']"
      ]
     },
     "execution_count": 49,
     "metadata": {},
     "output_type": "execute_result"
    }
   ],
   "source": [
    "for i in salaries_tags:\n",
    "    salary=i.text\n",
    "    No_of_salaries.append(salary)\n",
    "No_of_salaries[0:10]"
   ]
  },
  {
   "cell_type": "code",
   "execution_count": 50,
   "metadata": {},
   "outputs": [
    {
     "data": {
      "text/plain": [
       "[<selenium.webdriver.remote.webelement.WebElement (session=\"0d48ab4c80476d50e5f83e28928f7a59\", element=\"ba396f7d-6c92-40b4-a3d4-681959a30035\")>,\n",
       " <selenium.webdriver.remote.webelement.WebElement (session=\"0d48ab4c80476d50e5f83e28928f7a59\", element=\"f777d8d9-8345-4277-811f-76d68113e476\")>,\n",
       " <selenium.webdriver.remote.webelement.WebElement (session=\"0d48ab4c80476d50e5f83e28928f7a59\", element=\"8a2f11e6-1539-4d2c-b3b3-e0427c3c096a\")>,\n",
       " <selenium.webdriver.remote.webelement.WebElement (session=\"0d48ab4c80476d50e5f83e28928f7a59\", element=\"8ecb291f-555a-4085-987c-ba262869d829\")>,\n",
       " <selenium.webdriver.remote.webelement.WebElement (session=\"0d48ab4c80476d50e5f83e28928f7a59\", element=\"ac7b2653-ebc1-4875-b72f-36764ecf2647\")>,\n",
       " <selenium.webdriver.remote.webelement.WebElement (session=\"0d48ab4c80476d50e5f83e28928f7a59\", element=\"a98d93f9-9bd3-4b98-a1aa-9205a68986d1\")>,\n",
       " <selenium.webdriver.remote.webelement.WebElement (session=\"0d48ab4c80476d50e5f83e28928f7a59\", element=\"e6b47491-90f5-43c4-b323-63a1a3ca8fd2\")>,\n",
       " <selenium.webdriver.remote.webelement.WebElement (session=\"0d48ab4c80476d50e5f83e28928f7a59\", element=\"f3d2773b-a67b-4d28-9c4d-2d476d3674c4\")>,\n",
       " <selenium.webdriver.remote.webelement.WebElement (session=\"0d48ab4c80476d50e5f83e28928f7a59\", element=\"59c128ae-3910-4bb7-a7e7-3359f2923e03\")>,\n",
       " <selenium.webdriver.remote.webelement.WebElement (session=\"0d48ab4c80476d50e5f83e28928f7a59\", element=\"3a50d4d7-a416-45cf-aaa8-be1c9387f706\")>]"
      ]
     },
     "execution_count": 50,
     "metadata": {},
     "output_type": "execute_result"
    }
   ],
   "source": [
    "#Extract the tag having the Average Salary\n",
    "avg_salaries_tags=driver.find_elements_by_xpath(\"//div[@class='col-2 d-none d-md-flex flex-row justify-content-end']\")\n",
    "avg_salaries_tags[0:10]"
   ]
  },
  {
   "cell_type": "code",
   "execution_count": 51,
   "metadata": {},
   "outputs": [
    {
     "data": {
      "text/plain": [
       "['₹ 12,64,182\\n/yr',\n",
       " '₹ 7,30,968\\n/yr',\n",
       " '₹ 6,00,000\\n/yr',\n",
       " '₹ 9,94,055\\n/yr',\n",
       " '₹ 7,39,040\\n/yr',\n",
       " '₹ 13,37,114\\n/yr',\n",
       " '₹ 7,80,374\\n/yr',\n",
       " '₹ 11,98,792\\n/yr',\n",
       " '₹ 10,08,143\\n/yr',\n",
       " '₹ 11,34,989\\n/yr']"
      ]
     },
     "execution_count": 51,
     "metadata": {},
     "output_type": "execute_result"
    }
   ],
   "source": [
    "for i in avg_salaries_tags:\n",
    "    avg_salary=i.text\n",
    "    Average_salary.append(avg_salary)\n",
    "Average_salary[0:10]"
   ]
  },
  {
   "cell_type": "code",
   "execution_count": 60,
   "metadata": {},
   "outputs": [
    {
     "data": {
      "text/plain": [
       "[<selenium.webdriver.remote.webelement.WebElement (session=\"0d48ab4c80476d50e5f83e28928f7a59\", element=\"c8c87bdb-bd82-496d-b83d-3902cf425feb\")>,\n",
       " <selenium.webdriver.remote.webelement.WebElement (session=\"0d48ab4c80476d50e5f83e28928f7a59\", element=\"13e19966-7048-46c1-a20b-786fa2eaf365\")>,\n",
       " <selenium.webdriver.remote.webelement.WebElement (session=\"0d48ab4c80476d50e5f83e28928f7a59\", element=\"a5bc0c40-bb6d-463a-bbfa-997c30c46dd7\")>,\n",
       " <selenium.webdriver.remote.webelement.WebElement (session=\"0d48ab4c80476d50e5f83e28928f7a59\", element=\"40d9aaed-c3f9-4668-89dd-a88b755c8a88\")>,\n",
       " <selenium.webdriver.remote.webelement.WebElement (session=\"0d48ab4c80476d50e5f83e28928f7a59\", element=\"7d253f41-348f-4a7e-9fa4-983e87434701\")>,\n",
       " <selenium.webdriver.remote.webelement.WebElement (session=\"0d48ab4c80476d50e5f83e28928f7a59\", element=\"dfe1bebe-b959-4a49-b473-f3350c7ae4d0\")>,\n",
       " <selenium.webdriver.remote.webelement.WebElement (session=\"0d48ab4c80476d50e5f83e28928f7a59\", element=\"bac1c201-913a-49cb-98c9-7ad149740500\")>,\n",
       " <selenium.webdriver.remote.webelement.WebElement (session=\"0d48ab4c80476d50e5f83e28928f7a59\", element=\"5a61bfd0-d40c-4d81-9208-c68520bb6a93\")>,\n",
       " <selenium.webdriver.remote.webelement.WebElement (session=\"0d48ab4c80476d50e5f83e28928f7a59\", element=\"f4926c6e-7207-447d-83ce-c14f87de3856\")>,\n",
       " <selenium.webdriver.remote.webelement.WebElement (session=\"0d48ab4c80476d50e5f83e28928f7a59\", element=\"1316acd2-f874-4056-b1c9-7f8eb510a024\")>]"
      ]
     },
     "execution_count": 60,
     "metadata": {},
     "output_type": "execute_result"
    }
   ],
   "source": [
    "#Extract the tag having the Max Salary\n",
    "max_salaries_tags=driver.find_elements_by_xpath(\"//div[@class='common__RangeBarStyle__values common__flex__justifySpaceBetween common__flex__container ']\")\n",
    "max_salaries_tags[0:10]"
   ]
  },
  {
   "cell_type": "code",
   "execution_count": 61,
   "metadata": {},
   "outputs": [
    {
     "data": {
      "text/plain": [
       "['₹450K\\n₹11,630K',\n",
       " '₹350K\\n₹1,614K',\n",
       " '₹336K\\n₹1,010K',\n",
       " '₹577K\\n₹2,215K',\n",
       " '₹587K\\n₹2,732K',\n",
       " '₹717K\\n₹1,575K',\n",
       " '₹502K\\n₹1,152K',\n",
       " '₹621K\\n₹1,696K',\n",
       " '₹793K\\n₹1,264K',\n",
       " '₹576K\\n₹1,500K']"
      ]
     },
     "execution_count": 61,
     "metadata": {},
     "output_type": "execute_result"
    }
   ],
   "source": [
    "for i in max_salaries_tags:\n",
    "    max_salary=i.text\n",
    "    Max_salary.append(max_salary)\n",
    "Max_salary[0:10]"
   ]
  },
  {
   "cell_type": "code",
   "execution_count": 62,
   "metadata": {},
   "outputs": [
    {
     "name": "stdout",
     "output_type": "stream",
     "text": [
      "20 20 20 20\n"
     ]
    }
   ],
   "source": [
    "#Now we need to check the length of lists\n",
    "print(len(company_names),len(No_of_salaries),len(Average_salary),len(Max_salary))"
   ]
  },
  {
   "cell_type": "code",
   "execution_count": 63,
   "metadata": {},
   "outputs": [
    {
     "data": {
      "application/javascript": [
       "\n",
       "        if (window._pyforest_update_imports_cell) { window._pyforest_update_imports_cell('import pandas as pd'); }\n",
       "    "
      ],
      "text/plain": [
       "<IPython.core.display.Javascript object>"
      ]
     },
     "metadata": {},
     "output_type": "display_data"
    }
   ],
   "source": [
    "Salaries=pd.DataFrame({})\n",
    "Salaries['Copmpany_Name']=company_names[0:10]\n",
    "Salaries['No_of_salaries']=No_of_salaries[0:10]\n",
    "Salaries['Average_salary']=Average_salary[0:10]\n",
    "Salaries['Max_salary']=Max_salary[0:10]"
   ]
  },
  {
   "cell_type": "code",
   "execution_count": 64,
   "metadata": {},
   "outputs": [
    {
     "data": {
      "text/html": [
       "<div>\n",
       "<style scoped>\n",
       "    .dataframe tbody tr th:only-of-type {\n",
       "        vertical-align: middle;\n",
       "    }\n",
       "\n",
       "    .dataframe tbody tr th {\n",
       "        vertical-align: top;\n",
       "    }\n",
       "\n",
       "    .dataframe thead th {\n",
       "        text-align: right;\n",
       "    }\n",
       "</style>\n",
       "<table border=\"1\" class=\"dataframe\">\n",
       "  <thead>\n",
       "    <tr style=\"text-align: right;\">\n",
       "      <th></th>\n",
       "      <th>Copmpany_Name</th>\n",
       "      <th>No_of_salaries</th>\n",
       "      <th>Average_salary</th>\n",
       "      <th>Max_salary</th>\n",
       "    </tr>\n",
       "  </thead>\n",
       "  <tbody>\n",
       "    <tr>\n",
       "      <th>0</th>\n",
       "      <td>Delhivery</td>\n",
       "      <td>13 salaries</td>\n",
       "      <td>₹ 12,64,182\\n/yr</td>\n",
       "      <td>₹450K\\n₹11,630K</td>\n",
       "    </tr>\n",
       "    <tr>\n",
       "      <th>1</th>\n",
       "      <td>Ericsson-Worldwide</td>\n",
       "      <td>12 salaries</td>\n",
       "      <td>₹ 7,30,968\\n/yr</td>\n",
       "      <td>₹350K\\n₹1,614K</td>\n",
       "    </tr>\n",
       "    <tr>\n",
       "      <th>2</th>\n",
       "      <td>Tata Consultancy Services</td>\n",
       "      <td>11 salaries</td>\n",
       "      <td>₹ 6,00,000\\n/yr</td>\n",
       "      <td>₹336K\\n₹1,010K</td>\n",
       "    </tr>\n",
       "    <tr>\n",
       "      <th>3</th>\n",
       "      <td>Accenture</td>\n",
       "      <td>10 salaries</td>\n",
       "      <td>₹ 9,94,055\\n/yr</td>\n",
       "      <td>₹577K\\n₹2,215K</td>\n",
       "    </tr>\n",
       "    <tr>\n",
       "      <th>4</th>\n",
       "      <td>IBM</td>\n",
       "      <td>10 salaries</td>\n",
       "      <td>₹ 7,39,040\\n/yr</td>\n",
       "      <td>₹587K\\n₹2,732K</td>\n",
       "    </tr>\n",
       "    <tr>\n",
       "      <th>5</th>\n",
       "      <td>UnitedHealth Group</td>\n",
       "      <td>9 salaries</td>\n",
       "      <td>₹ 13,37,114\\n/yr</td>\n",
       "      <td>₹717K\\n₹1,575K</td>\n",
       "    </tr>\n",
       "    <tr>\n",
       "      <th>6</th>\n",
       "      <td>Valiance Solutions</td>\n",
       "      <td>8 salaries</td>\n",
       "      <td>₹ 7,80,374\\n/yr</td>\n",
       "      <td>₹502K\\n₹1,152K</td>\n",
       "    </tr>\n",
       "    <tr>\n",
       "      <th>7</th>\n",
       "      <td>Innovaccer</td>\n",
       "      <td>7 salaries</td>\n",
       "      <td>₹ 11,98,792\\n/yr</td>\n",
       "      <td>₹621K\\n₹1,696K</td>\n",
       "    </tr>\n",
       "    <tr>\n",
       "      <th>8</th>\n",
       "      <td>Cognizant Technology Solutions</td>\n",
       "      <td>6 salaries</td>\n",
       "      <td>₹ 10,08,143\\n/yr</td>\n",
       "      <td>₹793K\\n₹1,264K</td>\n",
       "    </tr>\n",
       "    <tr>\n",
       "      <th>9</th>\n",
       "      <td>EXL Service</td>\n",
       "      <td>6 salaries</td>\n",
       "      <td>₹ 11,34,989\\n/yr</td>\n",
       "      <td>₹576K\\n₹1,500K</td>\n",
       "    </tr>\n",
       "  </tbody>\n",
       "</table>\n",
       "</div>"
      ],
      "text/plain": [
       "                    Copmpany_Name No_of_salaries    Average_salary  \\\n",
       "0                       Delhivery    13 salaries  ₹ 12,64,182\\n/yr   \n",
       "1              Ericsson-Worldwide    12 salaries   ₹ 7,30,968\\n/yr   \n",
       "2       Tata Consultancy Services    11 salaries   ₹ 6,00,000\\n/yr   \n",
       "3                       Accenture    10 salaries   ₹ 9,94,055\\n/yr   \n",
       "4                             IBM    10 salaries   ₹ 7,39,040\\n/yr   \n",
       "5              UnitedHealth Group     9 salaries  ₹ 13,37,114\\n/yr   \n",
       "6              Valiance Solutions     8 salaries   ₹ 7,80,374\\n/yr   \n",
       "7                      Innovaccer     7 salaries  ₹ 11,98,792\\n/yr   \n",
       "8  Cognizant Technology Solutions     6 salaries  ₹ 10,08,143\\n/yr   \n",
       "9                     EXL Service     6 salaries  ₹ 11,34,989\\n/yr   \n",
       "\n",
       "        Max_salary  \n",
       "0  ₹450K\\n₹11,630K  \n",
       "1   ₹350K\\n₹1,614K  \n",
       "2   ₹336K\\n₹1,010K  \n",
       "3   ₹577K\\n₹2,215K  \n",
       "4   ₹587K\\n₹2,732K  \n",
       "5   ₹717K\\n₹1,575K  \n",
       "6   ₹502K\\n₹1,152K  \n",
       "7   ₹621K\\n₹1,696K  \n",
       "8   ₹793K\\n₹1,264K  \n",
       "9   ₹576K\\n₹1,500K  "
      ]
     },
     "execution_count": 64,
     "metadata": {},
     "output_type": "execute_result"
    }
   ],
   "source": [
    "Salaries"
   ]
  },
  {
   "cell_type": "code",
   "execution_count": null,
   "metadata": {},
   "outputs": [],
   "source": []
  }
 ],
 "metadata": {
  "kernelspec": {
   "display_name": "Python 3",
   "language": "python",
   "name": "python3"
  },
  "language_info": {
   "codemirror_mode": {
    "name": "ipython",
    "version": 3
   },
   "file_extension": ".py",
   "mimetype": "text/x-python",
   "name": "python",
   "nbconvert_exporter": "python",
   "pygments_lexer": "ipython3",
   "version": "3.8.3"
  }
 },
 "nbformat": 4,
 "nbformat_minor": 4
}
