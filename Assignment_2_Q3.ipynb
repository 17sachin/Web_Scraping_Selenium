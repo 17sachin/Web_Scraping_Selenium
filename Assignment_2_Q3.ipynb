{
 "cells": [
  {
   "cell_type": "code",
   "execution_count": 29,
   "metadata": {},
   "outputs": [
    {
     "name": "stdout",
     "output_type": "stream",
     "text": [
      "Requirement already satisfied: selenium in c:\\users\\hp\\anaconda3\\lib\\site-packages (3.141.0)\n",
      "Requirement already satisfied: urllib3 in c:\\users\\hp\\anaconda3\\lib\\site-packages (from selenium) (1.25.9)\n"
     ]
    }
   ],
   "source": [
    "!pip install selenium"
   ]
  },
  {
   "cell_type": "code",
   "execution_count": 30,
   "metadata": {},
   "outputs": [],
   "source": [
    "import selenium\n",
    "from selenium import webdriver"
   ]
  },
  {
   "cell_type": "code",
   "execution_count": 31,
   "metadata": {},
   "outputs": [],
   "source": [
    "driver=webdriver.Chrome(\"D:\\\\chromedriver_win32\\\\chromedriver.exe\")"
   ]
  },
  {
   "cell_type": "code",
   "execution_count": 32,
   "metadata": {},
   "outputs": [],
   "source": [
    "driver.close()"
   ]
  },
  {
   "cell_type": "code",
   "execution_count": 33,
   "metadata": {},
   "outputs": [],
   "source": [
    "driver=webdriver.Chrome(\"D:\\\\chromedriver_win32\\\\chromedriver.exe\")"
   ]
  },
  {
   "cell_type": "code",
   "execution_count": 34,
   "metadata": {},
   "outputs": [],
   "source": [
    "driver.get('https://www.naukri.com/')"
   ]
  },
  {
   "cell_type": "code",
   "execution_count": 35,
   "metadata": {},
   "outputs": [],
   "source": [
    "#finding element for job search bar\n",
    "\n",
    "search_job= driver.find_element_by_id('qsb-keyword-sugg')\n",
    "search_job.send_keys(\"Data Scientist\")"
   ]
  },
  {
   "cell_type": "code",
   "execution_count": 36,
   "metadata": {},
   "outputs": [],
   "source": [
    "search_btn=driver.find_element_by_xpath(\"//button[@class='btn']\")\n",
    "search_btn.click()"
   ]
  },
  {
   "cell_type": "code",
   "execution_count": 40,
   "metadata": {},
   "outputs": [],
   "source": [
    "checkbox_btn=driver.find_element_by_xpath(\"//div[@class='mt-8 chckBoxCont']\")\n",
    "checkbox_btn.click()"
   ]
  },
  {
   "cell_type": "code",
   "execution_count": 41,
   "metadata": {},
   "outputs": [],
   "source": [
    "#Specifying the url of the webpage to be scraped\n",
    "url=\"https://www.naukri.com/data-scientist-jobs?k=data%20scientist&cityType=25.17.74\""
   ]
  },
  {
   "cell_type": "code",
   "execution_count": 42,
   "metadata": {},
   "outputs": [],
   "source": [
    "#Lets open the webpage through our web driver\n",
    "driver.get(url)"
   ]
  },
  {
   "cell_type": "raw",
   "metadata": {},
   "source": [
    "# Now we need to create empty lists for 4 features\n",
    "1.job_titles 2.job_locations 3.company_names 4.experience_required"
   ]
  },
  {
   "cell_type": "code",
   "execution_count": 44,
   "metadata": {},
   "outputs": [],
   "source": [
    "job_titles=[]\n",
    "job_locations=[]\n",
    "company_names=[]\n",
    "experience_required=[]"
   ]
  },
  {
   "cell_type": "code",
   "execution_count": 45,
   "metadata": {},
   "outputs": [
    {
     "data": {
      "text/plain": [
       "[<selenium.webdriver.remote.webelement.WebElement (session=\"ece4bb7e88e3a7fe95cbf63e9504286b\", element=\"253d97a5-7142-475e-9c09-038dc5979927\")>,\n",
       " <selenium.webdriver.remote.webelement.WebElement (session=\"ece4bb7e88e3a7fe95cbf63e9504286b\", element=\"f30e7b05-90ce-4557-8f27-99478e454d42\")>,\n",
       " <selenium.webdriver.remote.webelement.WebElement (session=\"ece4bb7e88e3a7fe95cbf63e9504286b\", element=\"a999d777-18ba-45c1-a794-68241d018c27\")>,\n",
       " <selenium.webdriver.remote.webelement.WebElement (session=\"ece4bb7e88e3a7fe95cbf63e9504286b\", element=\"2f60c300-6c24-48ef-a116-687c8e3129b5\")>,\n",
       " <selenium.webdriver.remote.webelement.WebElement (session=\"ece4bb7e88e3a7fe95cbf63e9504286b\", element=\"c05c6f7d-60e8-45c3-bce9-89b7611485dd\")>,\n",
       " <selenium.webdriver.remote.webelement.WebElement (session=\"ece4bb7e88e3a7fe95cbf63e9504286b\", element=\"413ee862-a96a-4c0c-8297-49636aaa0483\")>,\n",
       " <selenium.webdriver.remote.webelement.WebElement (session=\"ece4bb7e88e3a7fe95cbf63e9504286b\", element=\"0f68c0b8-0dad-4013-85f7-3752bdf6fc6f\")>,\n",
       " <selenium.webdriver.remote.webelement.WebElement (session=\"ece4bb7e88e3a7fe95cbf63e9504286b\", element=\"8224ebaf-5d2b-4b65-a5e6-dfdc5a7d0577\")>,\n",
       " <selenium.webdriver.remote.webelement.WebElement (session=\"ece4bb7e88e3a7fe95cbf63e9504286b\", element=\"4d4d2025-fe38-4589-9b3e-b6b0306279a9\")>,\n",
       " <selenium.webdriver.remote.webelement.WebElement (session=\"ece4bb7e88e3a7fe95cbf63e9504286b\", element=\"6e9e9563-1ba3-41c8-9eb3-62d5576e90b2\")>]"
      ]
     },
     "execution_count": 45,
     "metadata": {},
     "output_type": "execute_result"
    }
   ],
   "source": [
    "#Extract the tag having the job-titles\n",
    "titles_tags=driver.find_elements_by_xpath(\"//a[@class='title fw500 ellipsis']\")\n",
    "titles_tags[0:10]"
   ]
  },
  {
   "cell_type": "code",
   "execution_count": 46,
   "metadata": {},
   "outputs": [
    {
     "data": {
      "text/plain": [
       "['Data Scientist/Data Analyst-immediate',\n",
       " 'Data Scientist - Python/ MATLAB/ Machine Learning Algorithms',\n",
       " 'Lead Data Scientist - Machine Learning/ Data Mining',\n",
       " 'Data Scientist - Machine Learning (Commerce BU)',\n",
       " 'Opening For Sr. Data Scientist @ Tech Mahindra',\n",
       " 'Opening For Sr. Data Scientist @ Tech Mahindra',\n",
       " 'Senior Data Scientist - NLP/ Python/ R',\n",
       " 'Senior Data Scientist | CES IT LTD | CMMI Level 5',\n",
       " 'Data Scientist- Manager/Sr. Manager',\n",
       " 'Sr Data Scientist']"
      ]
     },
     "execution_count": 46,
     "metadata": {},
     "output_type": "execute_result"
    }
   ],
   "source": [
    "#Now need to extratc the text from these tags\n",
    "\n",
    "for i in titles_tags:\n",
    "    title=i.text\n",
    "    job_titles.append(title)\n",
    "job_titles[0:10]"
   ]
  },
  {
   "cell_type": "code",
   "execution_count": 47,
   "metadata": {},
   "outputs": [
    {
     "data": {
      "text/plain": [
       "[<selenium.webdriver.remote.webelement.WebElement (session=\"ece4bb7e88e3a7fe95cbf63e9504286b\", element=\"85d237f8-a57e-49ea-aa1d-d18639721cdb\")>,\n",
       " <selenium.webdriver.remote.webelement.WebElement (session=\"ece4bb7e88e3a7fe95cbf63e9504286b\", element=\"25d1d162-7b32-42ee-a251-73abcbace703\")>,\n",
       " <selenium.webdriver.remote.webelement.WebElement (session=\"ece4bb7e88e3a7fe95cbf63e9504286b\", element=\"b6e4b1fe-1840-471e-b922-c0a733fa27ec\")>,\n",
       " <selenium.webdriver.remote.webelement.WebElement (session=\"ece4bb7e88e3a7fe95cbf63e9504286b\", element=\"427b21d0-17c1-4fa6-981b-e243c6bdbed0\")>,\n",
       " <selenium.webdriver.remote.webelement.WebElement (session=\"ece4bb7e88e3a7fe95cbf63e9504286b\", element=\"b3ee7052-d28e-4551-8540-dc180e8101d6\")>,\n",
       " <selenium.webdriver.remote.webelement.WebElement (session=\"ece4bb7e88e3a7fe95cbf63e9504286b\", element=\"733118c1-480d-495e-9afa-22acabef7d63\")>,\n",
       " <selenium.webdriver.remote.webelement.WebElement (session=\"ece4bb7e88e3a7fe95cbf63e9504286b\", element=\"19a11a17-9a9e-4a80-8f18-c963a40b1779\")>,\n",
       " <selenium.webdriver.remote.webelement.WebElement (session=\"ece4bb7e88e3a7fe95cbf63e9504286b\", element=\"733e635a-ec30-47b5-9ede-8fb515d94c9c\")>,\n",
       " <selenium.webdriver.remote.webelement.WebElement (session=\"ece4bb7e88e3a7fe95cbf63e9504286b\", element=\"ba443478-ff26-41b6-9982-b45d3df0aaee\")>,\n",
       " <selenium.webdriver.remote.webelement.WebElement (session=\"ece4bb7e88e3a7fe95cbf63e9504286b\", element=\"c22781f7-5fff-460b-a628-9978db645de6\")>]"
      ]
     },
     "execution_count": 47,
     "metadata": {},
     "output_type": "execute_result"
    }
   ],
   "source": [
    "#Now need to extract the tags having job locations\n",
    "\n",
    "locations_tags=driver.find_elements_by_xpath(\"//li[@class='fleft grey-text br2 placeHolderLi location']/span[1]\")\n",
    "locations_tags[0:10]"
   ]
  },
  {
   "cell_type": "code",
   "execution_count": 48,
   "metadata": {},
   "outputs": [
    {
     "data": {
      "text/plain": [
       "['Chennai, Pune, Bengaluru, Hyderabad',\n",
       " 'Bengaluru',\n",
       " 'Bengaluru',\n",
       " 'Bengaluru',\n",
       " 'Pune, Bengaluru',\n",
       " 'Pune, Bengaluru',\n",
       " 'Bengaluru, Hyderabad',\n",
       " 'Chennai, Pune, Delhi NCR, Mumbai, Bengaluru, Hyderabad, Kolkata',\n",
       " 'Bengaluru',\n",
       " 'Pune, Mumbai, Bengaluru, Gurgaon, Kolkata']"
      ]
     },
     "execution_count": 48,
     "metadata": {},
     "output_type": "execute_result"
    }
   ],
   "source": [
    "for i in locations_tags:\n",
    "    location_name=i.text\n",
    "    job_locations.append(location_name)\n",
    "job_locations[0:10]"
   ]
  },
  {
   "cell_type": "code",
   "execution_count": 49,
   "metadata": {},
   "outputs": [
    {
     "data": {
      "text/plain": [
       "[<selenium.webdriver.remote.webelement.WebElement (session=\"ece4bb7e88e3a7fe95cbf63e9504286b\", element=\"e12527e0-30ca-43e9-81c4-64a586dde47f\")>,\n",
       " <selenium.webdriver.remote.webelement.WebElement (session=\"ece4bb7e88e3a7fe95cbf63e9504286b\", element=\"2c378ec8-361e-45a3-8793-b8298af75760\")>,\n",
       " <selenium.webdriver.remote.webelement.WebElement (session=\"ece4bb7e88e3a7fe95cbf63e9504286b\", element=\"37a634be-5b19-4c4d-ad43-b1396c9742e3\")>,\n",
       " <selenium.webdriver.remote.webelement.WebElement (session=\"ece4bb7e88e3a7fe95cbf63e9504286b\", element=\"59a15597-d2a6-438f-8440-bfca170c3479\")>,\n",
       " <selenium.webdriver.remote.webelement.WebElement (session=\"ece4bb7e88e3a7fe95cbf63e9504286b\", element=\"f9346748-b159-46c8-94a5-12cb84b4434f\")>,\n",
       " <selenium.webdriver.remote.webelement.WebElement (session=\"ece4bb7e88e3a7fe95cbf63e9504286b\", element=\"4bb677c8-4f26-46e1-b81a-94258d7c3a62\")>,\n",
       " <selenium.webdriver.remote.webelement.WebElement (session=\"ece4bb7e88e3a7fe95cbf63e9504286b\", element=\"37b07c51-8e72-457e-97f2-a2fa4987bda1\")>,\n",
       " <selenium.webdriver.remote.webelement.WebElement (session=\"ece4bb7e88e3a7fe95cbf63e9504286b\", element=\"6e0af354-8012-4916-8ba7-05d3024270a8\")>,\n",
       " <selenium.webdriver.remote.webelement.WebElement (session=\"ece4bb7e88e3a7fe95cbf63e9504286b\", element=\"ab52b714-4237-4745-8cca-95c11c54b085\")>,\n",
       " <selenium.webdriver.remote.webelement.WebElement (session=\"ece4bb7e88e3a7fe95cbf63e9504286b\", element=\"762779ee-b49d-4f76-ba66-a8f297d36791\")>]"
      ]
     },
     "execution_count": 49,
     "metadata": {},
     "output_type": "execute_result"
    }
   ],
   "source": [
    "#Now need to extract the tags having company names\n",
    "\n",
    "companies_tags=driver.find_elements_by_xpath(\"//a[@class='subTitle ellipsis fleft']\")\n",
    "companies_tags[0:10]"
   ]
  },
  {
   "cell_type": "code",
   "execution_count": 50,
   "metadata": {},
   "outputs": [
    {
     "data": {
      "text/plain": [
       "['Inflexion Analytix Private Limited',\n",
       " 'Wrackle Technologies Pvt Ltd',\n",
       " 'Wrackle Technologies Pvt Ltd',\n",
       " 'BLUE YONDER INDIA PRIVATE LIMITED',\n",
       " 'Tech Mahindra Ltd.',\n",
       " 'Tech Mahindra Ltd.',\n",
       " 'AVI Consulting LLP',\n",
       " 'CES Ltd.',\n",
       " 'GENPACT India Private Limited',\n",
       " 'Concentrix Daksh Services India Private Limited.']"
      ]
     },
     "execution_count": 50,
     "metadata": {},
     "output_type": "execute_result"
    }
   ],
   "source": [
    "for i in companies_tags:\n",
    "    company_name=i.text\n",
    "    company_names.append(company_name)\n",
    "company_names[0:10]"
   ]
  },
  {
   "cell_type": "code",
   "execution_count": 51,
   "metadata": {},
   "outputs": [
    {
     "data": {
      "text/plain": [
       "[<selenium.webdriver.remote.webelement.WebElement (session=\"ece4bb7e88e3a7fe95cbf63e9504286b\", element=\"1d627aa0-9df7-4ec9-ad1e-d70656f001d7\")>,\n",
       " <selenium.webdriver.remote.webelement.WebElement (session=\"ece4bb7e88e3a7fe95cbf63e9504286b\", element=\"04648158-be88-4371-87d5-d128f6027dfb\")>,\n",
       " <selenium.webdriver.remote.webelement.WebElement (session=\"ece4bb7e88e3a7fe95cbf63e9504286b\", element=\"cac72873-3b15-4490-bdb4-3735d31ba248\")>,\n",
       " <selenium.webdriver.remote.webelement.WebElement (session=\"ece4bb7e88e3a7fe95cbf63e9504286b\", element=\"dee5b38e-7baf-46fd-a7e3-64599f2bcbfb\")>,\n",
       " <selenium.webdriver.remote.webelement.WebElement (session=\"ece4bb7e88e3a7fe95cbf63e9504286b\", element=\"f1993e8f-726f-4404-9736-82dee65e8bc5\")>,\n",
       " <selenium.webdriver.remote.webelement.WebElement (session=\"ece4bb7e88e3a7fe95cbf63e9504286b\", element=\"89ad1e9e-7772-4b09-ae6a-fb6489f3caeb\")>,\n",
       " <selenium.webdriver.remote.webelement.WebElement (session=\"ece4bb7e88e3a7fe95cbf63e9504286b\", element=\"64986bd4-0722-46a2-b49e-63b111c8358a\")>,\n",
       " <selenium.webdriver.remote.webelement.WebElement (session=\"ece4bb7e88e3a7fe95cbf63e9504286b\", element=\"c588484b-a732-4ba4-b814-7ea1b2b195a7\")>,\n",
       " <selenium.webdriver.remote.webelement.WebElement (session=\"ece4bb7e88e3a7fe95cbf63e9504286b\", element=\"0c05a9a7-0a9f-4bf9-8c31-1d7003984914\")>,\n",
       " <selenium.webdriver.remote.webelement.WebElement (session=\"ece4bb7e88e3a7fe95cbf63e9504286b\", element=\"315c9226-5152-4553-8187-95ef815c72c6\")>]"
      ]
     },
     "execution_count": 51,
     "metadata": {},
     "output_type": "execute_result"
    }
   ],
   "source": [
    "#Now need to extract the tags having experience required\n",
    "\n",
    "experience_tags=driver.find_elements_by_xpath(\"//li[@class='fleft grey-text br2 placeHolderLi experience']\")\n",
    "experience_tags[0:10]"
   ]
  },
  {
   "cell_type": "code",
   "execution_count": 52,
   "metadata": {},
   "outputs": [
    {
     "data": {
      "text/plain": [
       "['0-2 Yrs',\n",
       " '3-8 Yrs',\n",
       " '6-11 Yrs',\n",
       " '2-7 Yrs',\n",
       " '12-20 Yrs',\n",
       " '12-20 Yrs',\n",
       " '4-9 Yrs',\n",
       " '2-7 Yrs',\n",
       " '8-12 Yrs',\n",
       " '4-9 Yrs']"
      ]
     },
     "execution_count": 52,
     "metadata": {},
     "output_type": "execute_result"
    }
   ],
   "source": [
    "for i in experience_tags:\n",
    "    experience=i.text\n",
    "    experience_required.append(experience)\n",
    "experience_required[0:10]"
   ]
  },
  {
   "cell_type": "code",
   "execution_count": 53,
   "metadata": {},
   "outputs": [
    {
     "name": "stdout",
     "output_type": "stream",
     "text": [
      "20 20 20 20\n"
     ]
    }
   ],
   "source": [
    "#Now we need to check the length of lists\n",
    "print(len(job_titles),len(job_locations),len(company_names),len(experience_required))"
   ]
  },
  {
   "cell_type": "code",
   "execution_count": 55,
   "metadata": {},
   "outputs": [
    {
     "data": {
      "application/javascript": [
       "\n",
       "        if (window._pyforest_update_imports_cell) { window._pyforest_update_imports_cell('import pandas as pd'); }\n",
       "    "
      ],
      "text/plain": [
       "<IPython.core.display.Javascript object>"
      ]
     },
     "metadata": {},
     "output_type": "display_data"
    }
   ],
   "source": [
    "jobs=pd.DataFrame({})\n",
    "jobs['Title']=job_titles[0:10]\n",
    "jobs['Location']=job_locations[0:10]\n",
    "jobs['Company']=company_names[0:10]\n",
    "jobs['Experience_req']=experience_required[0:10]"
   ]
  },
  {
   "cell_type": "code",
   "execution_count": 56,
   "metadata": {},
   "outputs": [
    {
     "data": {
      "text/html": [
       "<div>\n",
       "<style scoped>\n",
       "    .dataframe tbody tr th:only-of-type {\n",
       "        vertical-align: middle;\n",
       "    }\n",
       "\n",
       "    .dataframe tbody tr th {\n",
       "        vertical-align: top;\n",
       "    }\n",
       "\n",
       "    .dataframe thead th {\n",
       "        text-align: right;\n",
       "    }\n",
       "</style>\n",
       "<table border=\"1\" class=\"dataframe\">\n",
       "  <thead>\n",
       "    <tr style=\"text-align: right;\">\n",
       "      <th></th>\n",
       "      <th>Title</th>\n",
       "      <th>Location</th>\n",
       "      <th>Company</th>\n",
       "      <th>Experience_req</th>\n",
       "    </tr>\n",
       "  </thead>\n",
       "  <tbody>\n",
       "    <tr>\n",
       "      <th>0</th>\n",
       "      <td>Data Scientist/Data Analyst-immediate</td>\n",
       "      <td>Chennai, Pune, Bengaluru, Hyderabad</td>\n",
       "      <td>Inflexion Analytix Private Limited</td>\n",
       "      <td>0-2 Yrs</td>\n",
       "    </tr>\n",
       "    <tr>\n",
       "      <th>1</th>\n",
       "      <td>Data Scientist - Python/ MATLAB/ Machine Learn...</td>\n",
       "      <td>Bengaluru</td>\n",
       "      <td>Wrackle Technologies Pvt Ltd</td>\n",
       "      <td>3-8 Yrs</td>\n",
       "    </tr>\n",
       "    <tr>\n",
       "      <th>2</th>\n",
       "      <td>Lead Data Scientist - Machine Learning/ Data M...</td>\n",
       "      <td>Bengaluru</td>\n",
       "      <td>Wrackle Technologies Pvt Ltd</td>\n",
       "      <td>6-11 Yrs</td>\n",
       "    </tr>\n",
       "    <tr>\n",
       "      <th>3</th>\n",
       "      <td>Data Scientist - Machine Learning (Commerce BU)</td>\n",
       "      <td>Bengaluru</td>\n",
       "      <td>BLUE YONDER INDIA PRIVATE LIMITED</td>\n",
       "      <td>2-7 Yrs</td>\n",
       "    </tr>\n",
       "    <tr>\n",
       "      <th>4</th>\n",
       "      <td>Opening For Sr. Data Scientist @ Tech Mahindra</td>\n",
       "      <td>Pune, Bengaluru</td>\n",
       "      <td>Tech Mahindra Ltd.</td>\n",
       "      <td>12-20 Yrs</td>\n",
       "    </tr>\n",
       "    <tr>\n",
       "      <th>5</th>\n",
       "      <td>Opening For Sr. Data Scientist @ Tech Mahindra</td>\n",
       "      <td>Pune, Bengaluru</td>\n",
       "      <td>Tech Mahindra Ltd.</td>\n",
       "      <td>12-20 Yrs</td>\n",
       "    </tr>\n",
       "    <tr>\n",
       "      <th>6</th>\n",
       "      <td>Senior Data Scientist - NLP/ Python/ R</td>\n",
       "      <td>Bengaluru, Hyderabad</td>\n",
       "      <td>AVI Consulting LLP</td>\n",
       "      <td>4-9 Yrs</td>\n",
       "    </tr>\n",
       "    <tr>\n",
       "      <th>7</th>\n",
       "      <td>Senior Data Scientist | CES IT LTD | CMMI Level 5</td>\n",
       "      <td>Chennai, Pune, Delhi NCR, Mumbai, Bengaluru, H...</td>\n",
       "      <td>CES Ltd.</td>\n",
       "      <td>2-7 Yrs</td>\n",
       "    </tr>\n",
       "    <tr>\n",
       "      <th>8</th>\n",
       "      <td>Data Scientist- Manager/Sr. Manager</td>\n",
       "      <td>Bengaluru</td>\n",
       "      <td>GENPACT India Private Limited</td>\n",
       "      <td>8-12 Yrs</td>\n",
       "    </tr>\n",
       "    <tr>\n",
       "      <th>9</th>\n",
       "      <td>Sr Data Scientist</td>\n",
       "      <td>Pune, Mumbai, Bengaluru, Gurgaon, Kolkata</td>\n",
       "      <td>Concentrix Daksh Services India Private Limited.</td>\n",
       "      <td>4-9 Yrs</td>\n",
       "    </tr>\n",
       "  </tbody>\n",
       "</table>\n",
       "</div>"
      ],
      "text/plain": [
       "                                               Title  \\\n",
       "0              Data Scientist/Data Analyst-immediate   \n",
       "1  Data Scientist - Python/ MATLAB/ Machine Learn...   \n",
       "2  Lead Data Scientist - Machine Learning/ Data M...   \n",
       "3    Data Scientist - Machine Learning (Commerce BU)   \n",
       "4     Opening For Sr. Data Scientist @ Tech Mahindra   \n",
       "5     Opening For Sr. Data Scientist @ Tech Mahindra   \n",
       "6             Senior Data Scientist - NLP/ Python/ R   \n",
       "7  Senior Data Scientist | CES IT LTD | CMMI Level 5   \n",
       "8                Data Scientist- Manager/Sr. Manager   \n",
       "9                                  Sr Data Scientist   \n",
       "\n",
       "                                            Location  \\\n",
       "0                Chennai, Pune, Bengaluru, Hyderabad   \n",
       "1                                          Bengaluru   \n",
       "2                                          Bengaluru   \n",
       "3                                          Bengaluru   \n",
       "4                                    Pune, Bengaluru   \n",
       "5                                    Pune, Bengaluru   \n",
       "6                               Bengaluru, Hyderabad   \n",
       "7  Chennai, Pune, Delhi NCR, Mumbai, Bengaluru, H...   \n",
       "8                                          Bengaluru   \n",
       "9          Pune, Mumbai, Bengaluru, Gurgaon, Kolkata   \n",
       "\n",
       "                                            Company Experience_req  \n",
       "0                Inflexion Analytix Private Limited        0-2 Yrs  \n",
       "1                      Wrackle Technologies Pvt Ltd        3-8 Yrs  \n",
       "2                      Wrackle Technologies Pvt Ltd       6-11 Yrs  \n",
       "3                 BLUE YONDER INDIA PRIVATE LIMITED        2-7 Yrs  \n",
       "4                                Tech Mahindra Ltd.      12-20 Yrs  \n",
       "5                                Tech Mahindra Ltd.      12-20 Yrs  \n",
       "6                                AVI Consulting LLP        4-9 Yrs  \n",
       "7                                          CES Ltd.        2-7 Yrs  \n",
       "8                     GENPACT India Private Limited       8-12 Yrs  \n",
       "9  Concentrix Daksh Services India Private Limited.        4-9 Yrs  "
      ]
     },
     "execution_count": 56,
     "metadata": {},
     "output_type": "execute_result"
    }
   ],
   "source": [
    "jobs"
   ]
  },
  {
   "cell_type": "code",
   "execution_count": null,
   "metadata": {},
   "outputs": [],
   "source": []
  }
 ],
 "metadata": {
  "kernelspec": {
   "display_name": "Python 3",
   "language": "python",
   "name": "python3"
  },
  "language_info": {
   "codemirror_mode": {
    "name": "ipython",
    "version": 3
   },
   "file_extension": ".py",
   "mimetype": "text/x-python",
   "name": "python",
   "nbconvert_exporter": "python",
   "pygments_lexer": "ipython3",
   "version": "3.8.3"
  }
 },
 "nbformat": 4,
 "nbformat_minor": 4
}
